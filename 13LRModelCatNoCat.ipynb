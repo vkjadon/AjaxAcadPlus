{
  "cells": [
    {
      "cell_type": "markdown",
      "metadata": {
        "id": "view-in-github",
        "colab_type": "text"
      },
      "source": [
        "<a href=\"https://colab.research.google.com/github/vkjadon/AjaxAcadPlus/blob/master/13LRModelCatNoCat.ipynb\" target=\"_parent\"><img src=\"https://colab.research.google.com/assets/colab-badge.svg\" alt=\"Open In Colab\"/></a>"
      ]
    },
    {
      "cell_type": "markdown",
      "metadata": {
        "id": "ZN1AxlLcYzpr"
      },
      "source": [
        "## Logistic Regression based on Fundamental Approach\n",
        "- Will use `kaggle` dataset of cat."
      ]
    },
    {
      "cell_type": "code",
      "execution_count": 1,
      "metadata": {
        "id": "wVRCOL1zYzpz"
      },
      "outputs": [],
      "source": [
        "import numpy as np\n",
        "import h5py\n",
        "import matplotlib.pyplot as plt"
      ]
    },
    {
      "cell_type": "markdown",
      "metadata": {
        "id": "xeMlf8vVYzp0"
      },
      "source": [
        "### Fetch Dataset from Kaggle\n",
        "- Import data from Kaggle\n",
        "- Use <a href=\"https://www.kaggle.com/muhammeddalkran/catvnoncat\" target=\"_blank\"> this Link </a>  \n",
        "\n",
        "To represent color images, the red, green and blue channels (RGB) must be specified for each pixel, and so the pixel value is actually a vector of three numbers ranging from 0 to 255."
      ]
    },
    {
      "cell_type": "code",
      "source": [
        "!ls"
      ],
      "metadata": {
        "colab": {
          "base_uri": "https://localhost:8080/"
        },
        "id": "-a1r15D2bExS",
        "outputId": "a1d699c6-83d3-421b-e7a4-fc094e4a27b3"
      },
      "execution_count": 2,
      "outputs": [
        {
          "output_type": "stream",
          "name": "stdout",
          "text": [
            "sample_data\n"
          ]
        }
      ]
    },
    {
      "cell_type": "code",
      "source": [
        "!pwd"
      ],
      "metadata": {
        "colab": {
          "base_uri": "https://localhost:8080/"
        },
        "id": "IWQAgoF0azq5",
        "outputId": "75243bf3-1977-46d0-962b-7eec788ea583"
      },
      "execution_count": 3,
      "outputs": [
        {
          "output_type": "stream",
          "name": "stdout",
          "text": [
            "/content\n"
          ]
        }
      ]
    },
    {
      "cell_type": "markdown",
      "source": [
        "It throw error because the drive is not accessible to the colab. For this we have to mount the drive using the `Mount Drive` icon. It will ask for the permission which we have to allow so that Colab can access the Drive."
      ],
      "metadata": {
        "id": "Z_3fC425CoJh"
      }
    },
    {
      "cell_type": "code",
      "source": [
        "import kagglehub\n",
        "\n",
        "# Download latest version\n",
        "path = kagglehub.dataset_download(\"muhammeddalkran/catvnoncat\")\n",
        "\n",
        "print(\"Path to dataset files:\", path)"
      ],
      "metadata": {
        "colab": {
          "base_uri": "https://localhost:8080/"
        },
        "id": "aRv4pTDp9WnZ",
        "outputId": "5ba51a11-f6aa-41bf-a925-abc676c92880"
      },
      "execution_count": 7,
      "outputs": [
        {
          "output_type": "stream",
          "name": "stdout",
          "text": [
            "Path to dataset files: /kaggle/input/catvnoncat\n"
          ]
        }
      ]
    },
    {
      "cell_type": "code",
      "source": [
        "!ls /kaggle/input/catvnoncat/"
      ],
      "metadata": {
        "id": "36BFnilf-_v_",
        "outputId": "2ef43a21-8178-460f-8d53-a47d1490ec09",
        "colab": {
          "base_uri": "https://localhost:8080/"
        }
      },
      "execution_count": 15,
      "outputs": [
        {
          "output_type": "stream",
          "name": "stdout",
          "text": [
            "catvnoncat\n"
          ]
        }
      ]
    },
    {
      "cell_type": "code",
      "source": [
        "# Loading the data (cat/non-cat) from the File downloaded from the Kaggle\n",
        "train_dataset = h5py.File(f'{path}/catvnoncat/train_catvnoncat.h5', \"r\")\n",
        "test_dataset = h5py.File(f'{path}/catvnoncat/test_catvnoncat.h5', \"r\")"
      ],
      "metadata": {
        "id": "0XqyJMev-VQ3"
      },
      "execution_count": 16,
      "outputs": []
    },
    {
      "cell_type": "code",
      "source": [
        "for key in train_dataset.keys():\n",
        "    print(key) #Names of the groups in HDF5 file."
      ],
      "metadata": {
        "colab": {
          "base_uri": "https://localhost:8080/"
        },
        "id": "OSx1p-AQHfh-",
        "outputId": "d93adbd6-c106-4394-f8d0-9d87bd65ab4f"
      },
      "execution_count": null,
      "outputs": [
        {
          "output_type": "stream",
          "name": "stdout",
          "text": [
            "list_classes\n",
            "train_set_x\n",
            "train_set_y\n"
          ]
        }
      ]
    },
    {
      "cell_type": "code",
      "source": [
        "for key in test_dataset.keys():\n",
        "    print(key) #Names of the groups in HDF5 file."
      ],
      "metadata": {
        "colab": {
          "base_uri": "https://localhost:8080/"
        },
        "id": "Im8tK6dslYmv",
        "outputId": "6f656069-077e-4f66-d58c-85e79681a51a"
      },
      "execution_count": null,
      "outputs": [
        {
          "output_type": "stream",
          "name": "stdout",
          "text": [
            "list_classes\n",
            "test_set_x\n",
            "test_set_y\n"
          ]
        }
      ]
    },
    {
      "cell_type": "code",
      "execution_count": null,
      "metadata": {
        "id": "rG9-lrWiYzp4"
      },
      "outputs": [],
      "source": [
        "train_set_x_orig = np.array(train_dataset[\"train_set_x\"][:]) # your train set features\n",
        "train_set_y = np.array(train_dataset[\"train_set_y\"][:]) # your train set labels"
      ]
    },
    {
      "cell_type": "code",
      "source": [
        "print(train_set_x_orig.shape)\n",
        "print(train_set_y.shape)"
      ],
      "metadata": {
        "colab": {
          "base_uri": "https://localhost:8080/"
        },
        "id": "UymNw8NiEClg",
        "outputId": "efaed4cd-fe4e-4a38-fdf5-619870fd0331"
      },
      "execution_count": null,
      "outputs": [
        {
          "output_type": "stream",
          "name": "stdout",
          "text": [
            "(209, 64, 64, 3)\n",
            "(209,)\n"
          ]
        }
      ]
    },
    {
      "cell_type": "code",
      "execution_count": null,
      "metadata": {
        "id": "xwM1Ls4cYzp5"
      },
      "outputs": [],
      "source": [
        "test_set_x_orig = np.array(test_dataset[\"test_set_x\"][:]) # your test set features\n",
        "test_set_y = np.array(test_dataset[\"test_set_y\"][:]) # your test set labels"
      ]
    },
    {
      "cell_type": "code",
      "execution_count": null,
      "metadata": {
        "id": "JnJeOzIbYzp5",
        "colab": {
          "base_uri": "https://localhost:8080/",
          "height": 184
        },
        "outputId": "25f47ef1-688b-48fa-dbef-6a3d0fab4111"
      },
      "outputs": [
        {
          "output_type": "error",
          "ename": "NameError",
          "evalue": "ignored",
          "traceback": [
            "\u001b[0;31m---------------------------------------------------------------------------\u001b[0m",
            "\u001b[0;31mNameError\u001b[0m                                 Traceback (most recent call last)",
            "\u001b[0;32m<ipython-input-1-de30e394a0ce>\u001b[0m in \u001b[0;36m<module>\u001b[0;34m()\u001b[0m\n\u001b[1;32m      1\u001b[0m \u001b[0mindex\u001b[0m \u001b[0;34m=\u001b[0m \u001b[0;36m2\u001b[0m\u001b[0;34m\u001b[0m\u001b[0;34m\u001b[0m\u001b[0m\n\u001b[0;32m----> 2\u001b[0;31m \u001b[0mplt\u001b[0m\u001b[0;34m.\u001b[0m\u001b[0mimshow\u001b[0m\u001b[0;34m(\u001b[0m\u001b[0mtrain_set_x_orig\u001b[0m\u001b[0;34m[\u001b[0m\u001b[0mindex\u001b[0m\u001b[0;34m]\u001b[0m\u001b[0;34m)\u001b[0m\u001b[0;34m\u001b[0m\u001b[0;34m\u001b[0m\u001b[0m\n\u001b[0m",
            "\u001b[0;31mNameError\u001b[0m: name 'plt' is not defined"
          ]
        }
      ],
      "source": [
        "index = 2\n",
        "plt.imshow(train_set_x_orig[index])"
      ]
    },
    {
      "cell_type": "code",
      "execution_count": null,
      "metadata": {
        "id": "k5FIfIv5Yzp7",
        "colab": {
          "base_uri": "https://localhost:8080/"
        },
        "outputId": "7521aece-c02e-4e0b-d3e1-aa614deb99f3"
      },
      "outputs": [
        {
          "output_type": "execute_result",
          "data": {
            "text/plain": [
              "(209,)"
            ]
          },
          "metadata": {},
          "execution_count": 41
        }
      ],
      "source": [
        "train_set_y.shape"
      ]
    },
    {
      "cell_type": "code",
      "execution_count": null,
      "metadata": {
        "id": "WbPgZoKRYzp7"
      },
      "outputs": [],
      "source": [
        "train_set_y = train_set_y.reshape((1, train_set_y.shape[0]))\n",
        "test_set_y = test_set_y.reshape((1, test_set_y.shape[0]))"
      ]
    },
    {
      "cell_type": "code",
      "source": [
        "train_set_y.shape"
      ],
      "metadata": {
        "colab": {
          "base_uri": "https://localhost:8080/"
        },
        "id": "FRfj_HYdZ60X",
        "outputId": "09a1eb78-f8c1-477d-e475-a65acc8a1f7f"
      },
      "execution_count": null,
      "outputs": [
        {
          "output_type": "execute_result",
          "data": {
            "text/plain": [
              "(1, 209)"
            ]
          },
          "metadata": {},
          "execution_count": 43
        }
      ]
    },
    {
      "cell_type": "code",
      "execution_count": null,
      "metadata": {
        "id": "mWdIU41VYzp8",
        "colab": {
          "base_uri": "https://localhost:8080/"
        },
        "outputId": "52ae5ba2-780c-43d9-bdd8-fe58e42f779e"
      },
      "outputs": [
        {
          "output_type": "stream",
          "name": "stdout",
          "text": [
            "Number of training examples: m_train =  209\n",
            "Number of testing examples: m_test =  50\n",
            "Size of image in pixels: num_px, num_py = 64,64\n"
          ]
        }
      ],
      "source": [
        "m_train=train_set_x_orig.shape[0]\n",
        "m_test=test_set_x_orig.shape[0]\n",
        "num_px=train_set_x_orig.shape[1]\n",
        "num_py=train_set_x_orig.shape[2]\n",
        "print (\"Number of training examples: m_train = \", m_train)\n",
        "print (\"Number of testing examples: m_test = \",m_test)\n",
        "print (\"Size of image in pixels: num_px, num_py = \" + str(num_px) + \",\" + str(num_py))"
      ]
    },
    {
      "cell_type": "markdown",
      "metadata": {
        "id": "78dSBEbpYzp9"
      },
      "source": [
        "The shape of **`X`** matrix is $\\mathcal {(nx, m)}$ where each columns represents the features of each training set;\n",
        "\n",
        "Where,   \n",
        "\n",
        "$\\mathcal {nx=px * py * 3}$ for the images as input and $m$ is the training examples.\n",
        "\n",
        "\n",
        "\n",
        "So, we have to reshape to `train_set_x_orig` to `(nx,m_train)`. This will be achieved in two steps:   \n",
        "\n",
        "***Step-1*** : Respahe `train_set_x_orig` to `(train_set_x_orig.shape[0],-1)`. -1 is used for unknown number of columns (known presently as `nx`)   \n",
        "***Step-2*** : Transpose the matrix to get the desired dimension `(nx, m)`."
      ]
    },
    {
      "cell_type": "code",
      "execution_count": null,
      "metadata": {
        "id": "Eip4rstaYzqA"
      },
      "outputs": [],
      "source": [
        "train_set_x_flatten=train_set_x_orig.reshape(train_set_x_orig.shape[0],-1).T\n",
        "test_set_x_flatten=test_set_x_orig.reshape (test_set_x_orig.shape[0],-1).T"
      ]
    },
    {
      "cell_type": "code",
      "execution_count": null,
      "metadata": {
        "id": "Ft1tMpilYzqB",
        "colab": {
          "base_uri": "https://localhost:8080/"
        },
        "outputId": "22c3e7f0-432a-4256-b2b8-80b94a93af14"
      },
      "outputs": [
        {
          "output_type": "execute_result",
          "data": {
            "text/plain": [
              "(12288, 209)"
            ]
          },
          "metadata": {},
          "execution_count": 67
        }
      ],
      "source": [
        "train_set_x_flatten.shape"
      ]
    },
    {
      "cell_type": "markdown",
      "metadata": {
        "id": "mnZCf5pqYzqB"
      },
      "source": [
        "Optimizing the parameters is best suited on the data of the same range. Let's normalize our dataset with the maximum possible pixel value i.e. 255."
      ]
    },
    {
      "cell_type": "code",
      "execution_count": null,
      "metadata": {
        "id": "sKubXCDQYzqB",
        "colab": {
          "base_uri": "https://localhost:8080/"
        },
        "outputId": "d5406a4a-3d67-4da3-b437-93a781073c39"
      },
      "outputs": [
        {
          "output_type": "execute_result",
          "data": {
            "text/plain": [
              "(1, 209)"
            ]
          },
          "metadata": {},
          "execution_count": 68
        }
      ],
      "source": [
        "x_train = train_set_x_flatten / 255.\n",
        "y_train=train_set_y\n",
        "x_test = test_set_x_flatten / 255.\n",
        "y_train.shape"
      ]
    },
    {
      "cell_type": "markdown",
      "metadata": {
        "id": "EO18cVD1YzqC"
      },
      "source": [
        "## Building the parts of our algorithm ##\n",
        "\n",
        "The main steps for building a Neural Network are:\n",
        "1. Define the model (such as number of input features)\n",
        "2. Initialize the model's parameters\n",
        "3. Loop:\n",
        "    - Calculate loss (forward propagation)\n",
        "    - Calculate gradient (backward propagation)\n",
        "    - Update parameters (gradient descent)\n"
      ]
    },
    {
      "cell_type": "code",
      "source": [
        "learning_rate=0.002\n",
        "max_iteration=5000\n",
        "\n",
        "w=np.zeros(x_train.shape[0]).reshape(x_train.shape[0],1)\n",
        "b=0.0\n",
        "cost=np.zeros((max_iteration))\n",
        "for i in range(max_iteration):\n",
        "  z=np.dot(w.T, x_train+b)\n",
        "  #print(z, z.shape)\n",
        "  A=1/(1+np.exp(-z))\n",
        "  #print(A, A.shape)\n",
        "  cost[i]=-np.sum((y_train*np.log(A)+(1-y_train)*np.log(1-A)),axis=1)/m_train\n",
        "  #print(\" Cost\", cost)\n",
        "  dw=np.dot(x_train,(A-y_train).T)/m_train\n",
        "  db=(np.sum((A-y_train), dtype=np.float64))/m_train\n",
        "  #print(\"Gradients dw, b\", dw,db)\n",
        "  w=w-learning_rate*dw\n",
        "  b=b-learning_rate*db\n",
        "print(w, b)"
      ],
      "metadata": {
        "colab": {
          "base_uri": "https://localhost:8080/"
        },
        "id": "D1n76u4NAcPU",
        "outputId": "022d0434-09ad-4cc9-e552-44117ad64d38"
      },
      "execution_count": null,
      "outputs": [
        {
          "output_type": "stream",
          "name": "stdout",
          "text": [
            "[[ 0.00952304]\n",
            " [-0.02644219]\n",
            " [-0.01228834]\n",
            " ...\n",
            " [-0.01140752]\n",
            " [-0.0294141 ]\n",
            " [ 0.02383453]] -0.017511035881230007\n"
          ]
        }
      ]
    },
    {
      "cell_type": "code",
      "source": [
        "# Plot learning curve (with costs)\n",
        "plt.plot(cost)\n",
        "plt.ylabel('cost')\n",
        "plt.xlabel('iterations')\n",
        "plt.title(\"Learning rate\")\n",
        "plt.show()"
      ],
      "metadata": {
        "colab": {
          "base_uri": "https://localhost:8080/",
          "height": 295
        },
        "id": "VreNdlZEAhNy",
        "outputId": "2bbe0995-0e28-4af7-8c14-c78e4739a37e"
      },
      "execution_count": null,
      "outputs": [
        {
          "output_type": "display_data",
          "data": {
            "image/png": "[encoded data removed]",
            "text/plain": [
              "<Figure size 432x288 with 1 Axes>"
            ]
          },
          "metadata": {
            "needs_background": "light"
          }
        }
      ]
    },
    {
      "cell_type": "code",
      "source": [
        "\n",
        "Y_prediction = np.zeros((1, m_test))\n",
        "w = w.reshape(x_test.shape[0], 1)\n",
        "z=np.dot(w.T, x_test+b)\n",
        "A=1/(1+np.exp(-z))\n",
        "\n",
        "for i in range(A.shape[1]):\n",
        "    if A[0,i] > 0.5:\n",
        "        Y_prediction[0,i]=1\n",
        "    else:\n",
        "        Y_prediction[0,i]=0\n"
      ],
      "metadata": {
        "id": "gfkHS6AFEbnp"
      },
      "execution_count": null,
      "outputs": []
    },
    {
      "cell_type": "code",
      "source": [
        "Y_prediction"
      ],
      "metadata": {
        "colab": {
          "base_uri": "https://localhost:8080/"
        },
        "id": "0EQ1rBDBELVK",
        "outputId": "1a7885b3-0271-4c1b-eb16-cc64bf90405c"
      },
      "execution_count": null,
      "outputs": [
        {
          "output_type": "execute_result",
          "data": {
            "text/plain": [
              "array([[1., 1., 1., 1., 1., 1., 0., 1., 1., 1., 0., 0., 1., 1., 0., 1.,\n",
              "        0., 1., 0., 0., 1., 0., 0., 1., 1., 1., 1., 0., 0., 1., 0., 1.,\n",
              "        1., 0., 1., 0., 0., 1., 0., 0., 1., 0., 1., 0., 1., 0., 0., 1.,\n",
              "        1., 0.]])"
            ]
          },
          "metadata": {},
          "execution_count": 51
        }
      ]
    },
    {
      "cell_type": "code",
      "source": [],
      "metadata": {
        "id": "S4e2YFDRE8Nc"
      },
      "execution_count": null,
      "outputs": []
    },
    {
      "cell_type": "code",
      "metadata": {
        "id": "c8d5b267",
        "outputId": "09eb0ca3-62fa-492c-c64a-b7c35b225fe9",
        "colab": {
          "base_uri": "https://localhost:8080/"
        }
      },
      "source": [],
      "execution_count": 9,
      "outputs": [
        {
          "output_type": "stream",
          "name": "stdout",
          "text": [
            "catvnoncat\n"
          ]
        }
      ]
    },
    {
      "cell_type": "code",
      "source": [],
      "metadata": {
        "id": "uZr246CI-x6_"
      },
      "execution_count": null,
      "outputs": []
    }
  ],
  "metadata": {
    "interpreter": {
      "hash": "aee8b7b246df8f9039afb4144a1f6fd8d2ca17a180786b69acc140d282b71a49"
    },
    "kernelspec": {
      "display_name": "Python 3.7.9 64-bit",
      "language": "python",
      "name": "python3"
    },
    "language_info": {
      "codemirror_mode": {
        "name": "ipython",
        "version": 3
      },
      "file_extension": ".py",
      "mimetype": "text/x-python",
      "name": "python",
      "nbconvert_exporter": "python",
      "pygments_lexer": "ipython3",
      "version": "3.7.9"
    },
    "orig_nbformat": 4,
    "colab": {
      "name": "13LRModelCatNoCat.ipynb",
      "provenance": [],
      "include_colab_link": true
    }
  },
  "nbformat": 4,
  "nbformat_minor": 0
}