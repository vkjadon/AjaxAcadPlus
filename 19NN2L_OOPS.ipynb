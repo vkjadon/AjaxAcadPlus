{
  "nbformat": 4,
  "nbformat_minor": 0,
  "metadata": {
    "colab": {
      "provenance": [],
      "authorship_tag": "ABX9TyPO1AYXxbA+Vio6vH+aQDlu",
      "include_colab_link": true
    },
    "kernelspec": {
      "name": "python3",
      "display_name": "Python 3"
    },
    "language_info": {
      "name": "python"
    }
  },
  "cells": [
    {
      "cell_type": "markdown",
      "metadata": {
        "id": "view-in-github",
        "colab_type": "text"
      },
      "source": [
        "<a href=\"https://colab.research.google.com/github/vkjadon/AjaxAcadPlus/blob/master/19NN2L_OOPS.ipynb\" target=\"_parent\"><img src=\"https://colab.research.google.com/assets/colab-badge.svg\" alt=\"Open In Colab\"/></a>"
      ]
    },
    {
      "cell_type": "code",
      "execution_count": 3,
      "metadata": {
        "colab": {
          "base_uri": "https://localhost:8080/"
        },
        "id": "y5bP4eUbvPB4",
        "outputId": "a9e4048c-c776-4be9-a744-21e7c7790f15"
      },
      "outputs": [
        {
          "output_type": "stream",
          "name": "stdout",
          "text": [
            "Downloading catvnoncat.zip to /content\n",
            "\r  0% 0.00/2.66M [00:00<?, ?B/s]\n",
            "\r100% 2.66M/2.66M [00:00<00:00, 192MB/s]\n"
          ]
        }
      ],
      "source": [
        "!mkdir ~/.kaggle\n",
        "!cp kaggle.json ~/.kaggle/\n",
        "!chmod 600 ~/.kaggle/kaggle.json\n",
        "!kaggle datasets download -d muhammeddalkran/catvnoncat"
      ]
    },
    {
      "cell_type": "code",
      "source": [
        "!unzip /content/catvnoncat.zip -d /content"
      ],
      "metadata": {
        "colab": {
          "base_uri": "https://localhost:8080/"
        },
        "id": "b2-XOdv_vfin",
        "outputId": "68c0b9b0-b440-4f04-d117-07b92b9853c3"
      },
      "execution_count": 4,
      "outputs": [
        {
          "output_type": "stream",
          "name": "stdout",
          "text": [
            "Archive:  /content/catvnoncat.zip\n",
            "  inflating: /content/catvnoncat/test_catvnoncat.h5  \n",
            "  inflating: /content/catvnoncat/train_catvnoncat.h5  \n"
          ]
        }
      ]
    },
    {
      "cell_type": "code",
      "source": [
        "%matplotlib inline\n",
        "import numpy as np\n",
        "import h5py\n",
        "import matplotlib.pyplot as plt"
      ],
      "metadata": {
        "id": "axnSG-BbvgS3"
      },
      "execution_count": 1,
      "outputs": []
    },
    {
      "cell_type": "code",
      "source": [
        "# Loading the data (cat/non-cat) from the File downloaded from the Kaggle\n",
        "train_dataset = h5py.File('/content/catvnoncat/train_catvnoncat.h5', \"r\")\n",
        "test_dataset = h5py.File('/content/catvnoncat/test_catvnoncat.h5', \"r\")\n",
        "#train set features\n",
        "train_set_x_orig = np.array(train_dataset[\"train_set_x\"][:])\n",
        "\n",
        "#train set labels\n",
        "train_set_y = np.array(train_dataset[\"train_set_y\"][:])\n",
        "\n",
        "#test set features\n",
        "test_set_x_orig = np.array(test_dataset[\"test_set_x\"][:])\n",
        "\n",
        "#test set labels\n",
        "test_set_y = np.array(test_dataset[\"test_set_y\"][:])"
      ],
      "metadata": {
        "id": "Sdk1ymYhvkHj"
      },
      "execution_count": 5,
      "outputs": []
    },
    {
      "cell_type": "code",
      "source": [
        "# Training Data\n",
        "\n",
        "train_set_x_flatten=train_set_x_orig.reshape(train_set_x_orig.shape[0],-1).T\n",
        "y = train_set_y.reshape((1, train_set_y.shape[0]))\n",
        "\n",
        "X = train_set_x_flatten / 255.\n",
        "\n",
        "# Test Data\n",
        "test_set_x_flatten=test_set_x_orig.reshape (test_set_x_orig.shape[0],-1).T\n",
        "y_test = test_set_y.reshape((1, test_set_y.shape[0]))\n",
        "\n",
        "X_test = test_set_x_flatten / 255."
      ],
      "metadata": {
        "id": "b9dp2ONYvnWa"
      },
      "execution_count": 6,
      "outputs": []
    },
    {
      "cell_type": "code",
      "source": [
        "nx, m_train = X.shape\n",
        "nh = 4\n",
        "ny = y.shape[0] # size of output layer"
      ],
      "metadata": {
        "id": "k9N4tmikvtFv"
      },
      "execution_count": 7,
      "outputs": []
    },
    {
      "cell_type": "code",
      "source": [
        "\n",
        "W1 = np.random.randn(nh, nx) * 0.01\n",
        "b1 = np.zeros(shape=(nh, 1))\n",
        "W2 = np.random.randn(ny, nh) * 0.01\n",
        "b2 = np.zeros(shape=(ny, 1))"
      ],
      "metadata": {
        "id": "0cBeyziRvyJt"
      },
      "execution_count": 8,
      "outputs": []
    },
    {
      "cell_type": "code",
      "source": [
        "class Weight_Initialization:\n",
        "  def __init__(self, rows, cols):\n",
        "    np.random.seed(2)\n",
        "    self.W=np.random.randn(rows, cols)\n",
        "    self.b=np.zeros((rows,1))"
      ],
      "metadata": {
        "id": "XGFdFC2641Mv"
      },
      "execution_count": 43,
      "outputs": []
    },
    {
      "cell_type": "code",
      "source": [
        "parameters1=Weight_Initialization(nh, nx)\n",
        "parameters2=Weight_Initialization(nh, ny)"
      ],
      "metadata": {
        "id": "IW_LIAFd5wFc"
      },
      "execution_count": 44,
      "outputs": []
    },
    {
      "cell_type": "code",
      "source": [
        "W1=parameters1.W\n",
        "b1=parameters1.b\n",
        "W2=parameters1.W\n",
        "b2=parameters1.b"
      ],
      "metadata": {
        "id": "Doty2Awn6LIE"
      },
      "execution_count": 45,
      "outputs": []
    },
    {
      "cell_type": "code",
      "source": [
        "class Layer_Dense:\n",
        "  def forward(self, A):\n",
        "    self.Z=np.dot(self.W, A) + self.b"
      ],
      "metadata": {
        "id": "A54gCHOEyuJb"
      },
      "execution_count": 26,
      "outputs": []
    },
    {
      "cell_type": "code",
      "source": [
        "Layer1=Layer_Dense(W1,b1)\n",
        "Layer2=Layer_Dense(W2,b2)"
      ],
      "metadata": {
        "id": "mXkJ4PJd02OY"
      },
      "execution_count": 27,
      "outputs": []
    },
    {
      "cell_type": "code",
      "source": [
        "print(Layer2.W)"
      ],
      "metadata": {
        "colab": {
          "base_uri": "https://localhost:8080/"
        },
        "id": "QP5v4tiM0FaG",
        "outputId": "413b2e9e-a502-4350-e62d-c033eabf85d4"
      },
      "execution_count": 28,
      "outputs": [
        {
          "output_type": "stream",
          "name": "stdout",
          "text": [
            "[[-0.41675785 -0.05626683 -2.1361961   1.64027081]]\n"
          ]
        }
      ]
    },
    {
      "cell_type": "code",
      "source": [
        "Layer1.forward(X)\n",
        "# print(Layer1.Z)\n",
        "Layer2.forward(Layer1.Z)\n",
        "print(Layer2.Z)"
      ],
      "metadata": {
        "id": "gobiZeoF1sz5"
      },
      "execution_count": null,
      "outputs": []
    },
    {
      "cell_type": "code",
      "source": [
        "learning_rate=0.005\n",
        "max_iteration=300\n",
        "cost=np.zeros((max_iteration))\n",
        "for i in range(max_iteration):\n",
        "\n",
        "  #Forward Propagation\n",
        "  Layer1.forward(X)\n",
        "  Z1 = Layer1.Z\n",
        "  A1 = np.tanh(Z1)\n",
        "\n",
        "  Layer2.forward(A1)\n",
        "  Z2 = Layer2.Z\n",
        "  A2 = 1/(1+np.exp(-Z2))\n",
        "\n",
        "  #Calculate Cost\n",
        "  cost[i] = - np.sum(np.multiply(np.log(A2), y) + np.multiply((1 - y), np.log(1 - A2))) / m_train\n",
        "\n",
        "  #Calculate Derivatives\n",
        "\n",
        "  #Output Layer\n",
        "  dZ2= A2 - y\n",
        "  dW2 = (1 / m_train) * np.dot(dZ2, A1.T)\n",
        "  db2 = (1 / m_train) * np.sum(dZ2, axis=1, keepdims=True)\n",
        "\n",
        "  #Hidden Layer\n",
        "  dZ1 = np.multiply(np.dot(W2.T, dZ2), 1 - np.power(A1, 2))\n",
        "  dW1 = (1 / m_train) * np.dot(dZ1, X.T)\n",
        "  db1 = (1 / m_train) * np.sum(dZ1, axis=1, keepdims=True)\n",
        "\n",
        "  #Update Parameters\n",
        "\n",
        "  W1 = W1 - learning_rate * dW1\n",
        "  b1 = b1 - learning_rate * db1\n",
        "  W2 = W2 - learning_rate * dW2\n",
        "  b2 = b2 - learning_rate * db2\n",
        "\n",
        "print(cost[i])"
      ],
      "metadata": {
        "colab": {
          "base_uri": "https://localhost:8080/"
        },
        "id": "jvoQzfzpwA8u",
        "outputId": "f937863d-0c7f-4c35-c0bc-7524cfa9578c"
      },
      "execution_count": 41,
      "outputs": [
        {
          "output_type": "stream",
          "name": "stdout",
          "text": [
            "2.061822509108288\n"
          ]
        }
      ]
    },
    {
      "cell_type": "code",
      "source": [
        "plt.plot(cost)\n",
        "plt.ylabel('cost')\n",
        "plt.xlabel('iterations')\n",
        "plt.title(\"Learning rate\")\n",
        "plt.show()"
      ],
      "metadata": {
        "colab": {
          "base_uri": "https://localhost:8080/",
          "height": 472
        },
        "id": "QdMinzVswMTL",
        "outputId": "65f56e2e-99fb-4a5c-edd4-0a16ae26abd7"
      },
      "execution_count": 40,
      "outputs": [
        {
          "output_type": "display_data",
          "data": {
            "text/plain": [
              "<Figure size 640x480 with 1 Axes>"
            ],
            "image/png": "[encoded data removed]"
          },
          "metadata": {}
        }
      ]
    },
    {
      "cell_type": "code",
      "source": [],
      "metadata": {
        "id": "0BkXs3GXwM32"
      },
      "execution_count": null,
      "outputs": []
    }
  ]
}