{
  "nbformat": 4,
  "nbformat_minor": 0,
  "metadata": {
    "colab": {
      "provenance": [],
      "authorship_tag": "ABX9TyPiX84NB6L7PtTEnIO7cvZB",
      "include_colab_link": true
    },
    "kernelspec": {
      "name": "python3",
      "display_name": "Python 3"
    },
    "language_info": {
      "name": "python"
    }
  },
  "cells": [
    {
      "cell_type": "markdown",
      "metadata": {
        "id": "view-in-github",
        "colab_type": "text"
      },
      "source": [
        "<a href=\"https://colab.research.google.com/github/vkjadon/AjaxAcadPlus/blob/master/tensileStrength.ipynb\" target=\"_parent\"><img src=\"https://colab.research.google.com/assets/colab-badge.svg\" alt=\"Open In Colab\"/></a>"
      ]
    },
    {
      "cell_type": "code",
      "execution_count": 3,
      "metadata": {
        "colab": {
          "base_uri": "https://localhost:8080/"
        },
        "id": "AWGzmswSzOrU",
        "outputId": "e126cffa-935a-4f53-e8f6-bb48224b77c1"
      },
      "outputs": [
        {
          "output_type": "stream",
          "name": "stdout",
          "text": [
            "mkdir: cannot create directory ‘/root/.kaggle’: File exists\n",
            "steel-test-data.zip: Skipping, found more recently modified local copy (use --force to force download)\n",
            "unzip:  cannot find or open /content/catvnoncat.zip, /content/catvnoncat.zip.zip or /content/catvnoncat.zip.ZIP.\n"
          ]
        }
      ],
      "source": [
        "!mkdir ~/.kaggle\n",
        "!cp kaggle.json ~/.kaggle/\n",
        "!chmod 600 ~/.kaggle/kaggle.json\n",
        "!kaggle datasets download -d fuarresvij/steel-test-data"
      ]
    },
    {
      "cell_type": "code",
      "source": [
        "!unzip /content/steel-test-data.zip -d /content"
      ],
      "metadata": {
        "colab": {
          "base_uri": "https://localhost:8080/"
        },
        "id": "utAuusvCz8bs",
        "outputId": "e76435da-2211-46ab-a8e2-49f18a53ef92"
      },
      "execution_count": 4,
      "outputs": [
        {
          "output_type": "stream",
          "name": "stdout",
          "text": [
            "Archive:  /content/steel-test-data.zip\n",
            "  inflating: /content/steel_strength.csv  \n"
          ]
        }
      ]
    },
    {
      "cell_type": "code",
      "source": [
        "import pandas as pd\n",
        "pd.set_option('display.max_columns',None)\n",
        "\n",
        "raw_df = pd.read_csv('steel_strength.csv')"
      ],
      "metadata": {
        "id": "AfQUh4lp1bWX"
      },
      "execution_count": 32,
      "outputs": []
    },
    {
      "cell_type": "code",
      "source": [
        "raw_df"
      ],
      "metadata": {
        "id": "OCP90voj2NGo"
      },
      "execution_count": null,
      "outputs": []
    },
    {
      "cell_type": "code",
      "source": [
        "raw_df.info()"
      ],
      "metadata": {
        "id": "Pc_Ie1Y62SqS"
      },
      "execution_count": null,
      "outputs": []
    },
    {
      "cell_type": "code",
      "source": [
        "raw_df.shape"
      ],
      "metadata": {
        "colab": {
          "base_uri": "https://localhost:8080/"
        },
        "id": "5H0NocBQ4PFo",
        "outputId": "1c9d512d-558b-4a4e-b55f-92c07c831051"
      },
      "execution_count": 35,
      "outputs": [
        {
          "output_type": "execute_result",
          "data": {
            "text/plain": [
              "(312, 17)"
            ]
          },
          "metadata": {},
          "execution_count": 35
        }
      ]
    },
    {
      "cell_type": "code",
      "source": [
        "raw_df.columns"
      ],
      "metadata": {
        "id": "ugUnbNgd460k"
      },
      "execution_count": null,
      "outputs": []
    },
    {
      "cell_type": "code",
      "source": [
        "type(raw_df)"
      ],
      "metadata": {
        "id": "XZJ_RHfO48HR"
      },
      "execution_count": null,
      "outputs": []
    },
    {
      "cell_type": "code",
      "source": [
        "# Show First Five rows\n",
        "raw_df.head()"
      ],
      "metadata": {
        "id": "WcoU20AS4-Se"
      },
      "execution_count": null,
      "outputs": []
    },
    {
      "cell_type": "markdown",
      "source": [
        "### Fetch ith row\n",
        "`df.loc[i]`"
      ],
      "metadata": {
        "id": "Syl7TO465Eu8"
      }
    },
    {
      "cell_type": "code",
      "source": [
        "raw_df.loc[10]"
      ],
      "metadata": {
        "id": "sA4hk2ZZ5FOQ"
      },
      "execution_count": null,
      "outputs": []
    },
    {
      "cell_type": "code",
      "source": [
        "raw_df[raw_df['ni']>16]"
      ],
      "metadata": {
        "id": "Y1obSZ5A5IKP"
      },
      "execution_count": null,
      "outputs": []
    },
    {
      "cell_type": "markdown",
      "source": [
        "##Columns of your choice"
      ],
      "metadata": {
        "id": "0La6nDts5twc"
      }
    },
    {
      "cell_type": "code",
      "source": [
        "features=['yield strength', 'tensile strength', 'elongation', 'c', 'mn']\n",
        "raw_df=raw_df[features]\n",
        "raw_df"
      ],
      "metadata": {
        "colab": {
          "base_uri": "https://localhost:8080/",
          "height": 424
        },
        "id": "vebv9rqm5sXn",
        "outputId": "8b285d6f-acdd-458a-d013-664184801554"
      },
      "execution_count": 45,
      "outputs": [
        {
          "output_type": "execute_result",
          "data": {
            "text/plain": [
              "     yield strength  tensile strength  elongation     c    mn\n",
              "0            2411.5            2473.5         7.0  0.02  0.05\n",
              "1            1123.1            1929.2         8.0  0.18  0.01\n",
              "2            1736.3            1871.8         NaN  0.00  0.01\n",
              "3            2487.3            2514.9         9.0  0.01  0.05\n",
              "4            2249.6            2315.0         8.5  0.01  0.05\n",
              "..              ...               ...         ...   ...   ...\n",
              "307          1722.5            1998.1         5.0  0.38  0.18\n",
              "308          1019.0            1019.0        19.0  0.00  0.06\n",
              "309          1860.3            2156.6         3.0  0.37  0.17\n",
              "310          1812.1            2087.7         2.0  0.41  0.19\n",
              "311          1139.7            1236.3        15.4  0.27  0.27\n",
              "\n",
              "[312 rows x 5 columns]"
            ],
            "text/html": [
              "\n",
              "  <div id=\"df-c46f21db-d0b5-4f7e-b8d7-de3964cea0a0\">\n",
              "    <div class=\"colab-df-container\">\n",
              "      <div>\n",
              "<style scoped>\n",
              "    .dataframe tbody tr th:only-of-type {\n",
              "        vertical-align: middle;\n",
              "    }\n",
              "\n",
              "    .dataframe tbody tr th {\n",
              "        vertical-align: top;\n",
              "    }\n",
              "\n",
              "    .dataframe thead th {\n",
              "        text-align: right;\n",
              "    }\n",
              "</style>\n",
              "<table border=\"1\" class=\"dataframe\">\n",
              "  <thead>\n",
              "    <tr style=\"text-align: right;\">\n",
              "      <th></th>\n",
              "      <th>yield strength</th>\n",
              "      <th>tensile strength</th>\n",
              "      <th>elongation</th>\n",
              "      <th>c</th>\n",
              "      <th>mn</th>\n",
              "    </tr>\n",
              "  </thead>\n",
              "  <tbody>\n",
              "    <tr>\n",
              "      <th>0</th>\n",
              "      <td>2411.5</td>\n",
              "      <td>2473.5</td>\n",
              "      <td>7.0</td>\n",
              "      <td>0.02</td>\n",
              "      <td>0.05</td>\n",
              "    </tr>\n",
              "    <tr>\n",
              "      <th>1</th>\n",
              "      <td>1123.1</td>\n",
              "      <td>1929.2</td>\n",
              "      <td>8.0</td>\n",
              "      <td>0.18</td>\n",
              "      <td>0.01</td>\n",
              "    </tr>\n",
              "    <tr>\n",
              "      <th>2</th>\n",
              "      <td>1736.3</td>\n",
              "      <td>1871.8</td>\n",
              "      <td>NaN</td>\n",
              "      <td>0.00</td>\n",
              "      <td>0.01</td>\n",
              "    </tr>\n",
              "    <tr>\n",
              "      <th>3</th>\n",
              "      <td>2487.3</td>\n",
              "      <td>2514.9</td>\n",
              "      <td>9.0</td>\n",
              "      <td>0.01</td>\n",
              "      <td>0.05</td>\n",
              "    </tr>\n",
              "    <tr>\n",
              "      <th>4</th>\n",
              "      <td>2249.6</td>\n",
              "      <td>2315.0</td>\n",
              "      <td>8.5</td>\n",
              "      <td>0.01</td>\n",
              "      <td>0.05</td>\n",
              "    </tr>\n",
              "    <tr>\n",
              "      <th>...</th>\n",
              "      <td>...</td>\n",
              "      <td>...</td>\n",
              "      <td>...</td>\n",
              "      <td>...</td>\n",
              "      <td>...</td>\n",
              "    </tr>\n",
              "    <tr>\n",
              "      <th>307</th>\n",
              "      <td>1722.5</td>\n",
              "      <td>1998.1</td>\n",
              "      <td>5.0</td>\n",
              "      <td>0.38</td>\n",
              "      <td>0.18</td>\n",
              "    </tr>\n",
              "    <tr>\n",
              "      <th>308</th>\n",
              "      <td>1019.0</td>\n",
              "      <td>1019.0</td>\n",
              "      <td>19.0</td>\n",
              "      <td>0.00</td>\n",
              "      <td>0.06</td>\n",
              "    </tr>\n",
              "    <tr>\n",
              "      <th>309</th>\n",
              "      <td>1860.3</td>\n",
              "      <td>2156.6</td>\n",
              "      <td>3.0</td>\n",
              "      <td>0.37</td>\n",
              "      <td>0.17</td>\n",
              "    </tr>\n",
              "    <tr>\n",
              "      <th>310</th>\n",
              "      <td>1812.1</td>\n",
              "      <td>2087.7</td>\n",
              "      <td>2.0</td>\n",
              "      <td>0.41</td>\n",
              "      <td>0.19</td>\n",
              "    </tr>\n",
              "    <tr>\n",
              "      <th>311</th>\n",
              "      <td>1139.7</td>\n",
              "      <td>1236.3</td>\n",
              "      <td>15.4</td>\n",
              "      <td>0.27</td>\n",
              "      <td>0.27</td>\n",
              "    </tr>\n",
              "  </tbody>\n",
              "</table>\n",
              "<p>312 rows × 5 columns</p>\n",
              "</div>\n",
              "      <button class=\"colab-df-convert\" onclick=\"convertToInteractive('df-c46f21db-d0b5-4f7e-b8d7-de3964cea0a0')\"\n",
              "              title=\"Convert this dataframe to an interactive table.\"\n",
              "              style=\"display:none;\">\n",
              "        \n",
              "  <svg xmlns=\"http://www.w3.org/2000/svg\" height=\"24px\"viewBox=\"0 0 24 24\"\n",
              "       width=\"24px\">\n",
              "    <path d=\"M0 0h24v24H0V0z\" fill=\"none\"/>\n",
              "    <path d=\"M18.56 5.44l.94 2.06.94-2.06 2.06-.94-2.06-.94-.94-2.06-.94 2.06-2.06.94zm-11 1L8.5 8.5l.94-2.06 2.06-.94-2.06-.94L8.5 2.5l-.94 2.06-2.06.94zm10 10l.94 2.06.94-2.06 2.06-.94-2.06-.94-.94-2.06-.94 2.06-2.06.94z\"/><path d=\"M17.41 7.96l-1.37-1.37c-.4-.4-.92-.59-1.43-.59-.52 0-1.04.2-1.43.59L10.3 9.45l-7.72 7.72c-.78.78-.78 2.05 0 2.83L4 21.41c.39.39.9.59 1.41.59.51 0 1.02-.2 1.41-.59l7.78-7.78 2.81-2.81c.8-.78.8-2.07 0-2.86zM5.41 20L4 18.59l7.72-7.72 1.47 1.35L5.41 20z\"/>\n",
              "  </svg>\n",
              "      </button>\n",
              "      \n",
              "  <style>\n",
              "    .colab-df-container {\n",
              "      display:flex;\n",
              "      flex-wrap:wrap;\n",
              "      gap: 12px;\n",
              "    }\n",
              "\n",
              "    .colab-df-convert {\n",
              "      background-color: #E8F0FE;\n",
              "      border: none;\n",
              "      border-radius: 50%;\n",
              "      cursor: pointer;\n",
              "      display: none;\n",
              "      fill: #1967D2;\n",
              "      height: 32px;\n",
              "      padding: 0 0 0 0;\n",
              "      width: 32px;\n",
              "    }\n",
              "\n",
              "    .colab-df-convert:hover {\n",
              "      background-color: #E2EBFA;\n",
              "      box-shadow: 0px 1px 2px rgba(60, 64, 67, 0.3), 0px 1px 3px 1px rgba(60, 64, 67, 0.15);\n",
              "      fill: #174EA6;\n",
              "    }\n",
              "\n",
              "    [theme=dark] .colab-df-convert {\n",
              "      background-color: #3B4455;\n",
              "      fill: #D2E3FC;\n",
              "    }\n",
              "\n",
              "    [theme=dark] .colab-df-convert:hover {\n",
              "      background-color: #434B5C;\n",
              "      box-shadow: 0px 1px 3px 1px rgba(0, 0, 0, 0.15);\n",
              "      filter: drop-shadow(0px 1px 2px rgba(0, 0, 0, 0.3));\n",
              "      fill: #FFFFFF;\n",
              "    }\n",
              "  </style>\n",
              "\n",
              "      <script>\n",
              "        const buttonEl =\n",
              "          document.querySelector('#df-c46f21db-d0b5-4f7e-b8d7-de3964cea0a0 button.colab-df-convert');\n",
              "        buttonEl.style.display =\n",
              "          google.colab.kernel.accessAllowed ? 'block' : 'none';\n",
              "\n",
              "        async function convertToInteractive(key) {\n",
              "          const element = document.querySelector('#df-c46f21db-d0b5-4f7e-b8d7-de3964cea0a0');\n",
              "          const dataTable =\n",
              "            await google.colab.kernel.invokeFunction('convertToInteractive',\n",
              "                                                     [key], {});\n",
              "          if (!dataTable) return;\n",
              "\n",
              "          const docLinkHtml = 'Like what you see? Visit the ' +\n",
              "            '<a target=\"_blank\" href=https://colab.research.google.com/notebooks/data_table.ipynb>data table notebook</a>'\n",
              "            + ' to learn more about interactive tables.';\n",
              "          element.innerHTML = '';\n",
              "          dataTable['output_type'] = 'display_data';\n",
              "          await google.colab.output.renderOutput(dataTable, element);\n",
              "          const docLink = document.createElement('div');\n",
              "          docLink.innerHTML = docLinkHtml;\n",
              "          element.appendChild(docLink);\n",
              "        }\n",
              "      </script>\n",
              "    </div>\n",
              "  </div>\n",
              "  "
            ]
          },
          "metadata": {},
          "execution_count": 45
        }
      ]
    },
    {
      "cell_type": "code",
      "source": [
        "type(raw_df.mn)"
      ],
      "metadata": {
        "colab": {
          "base_uri": "https://localhost:8080/"
        },
        "id": "yBiKjlC-6DZj",
        "outputId": "625f8531-85cb-497f-beb2-0cf820f0f9c7"
      },
      "execution_count": 47,
      "outputs": [
        {
          "output_type": "execute_result",
          "data": {
            "text/plain": [
              "pandas.core.series.Series"
            ]
          },
          "metadata": {},
          "execution_count": 47
        }
      ]
    },
    {
      "cell_type": "code",
      "source": [
        "raw_df.mn>0.1"
      ],
      "metadata": {
        "colab": {
          "base_uri": "https://localhost:8080/"
        },
        "id": "suzKvxOw9MD0",
        "outputId": "41e5beef-d74d-40da-9c59-c3140943803c"
      },
      "execution_count": 49,
      "outputs": [
        {
          "output_type": "execute_result",
          "data": {
            "text/plain": [
              "0      False\n",
              "1      False\n",
              "2      False\n",
              "3      False\n",
              "4      False\n",
              "       ...  \n",
              "307     True\n",
              "308    False\n",
              "309     True\n",
              "310     True\n",
              "311     True\n",
              "Name: mn, Length: 312, dtype: bool"
            ]
          },
          "metadata": {},
          "execution_count": 49
        }
      ]
    },
    {
      "cell_type": "code",
      "source": [
        "raw_df[raw_df[\"mn\"]>0.1]"
      ],
      "metadata": {
        "id": "YmUCw0Kd9QNX"
      },
      "execution_count": null,
      "outputs": []
    },
    {
      "cell_type": "code",
      "source": [
        "raw_df[raw_df.mn>0.1]"
      ],
      "metadata": {
        "id": "Juwk9cJ-9pqX"
      },
      "execution_count": null,
      "outputs": []
    },
    {
      "cell_type": "markdown",
      "source": [
        "`raw_df['Area']` returns Series Object.   \n",
        "Series can only contain single list with index, whereas dataframe can be made of more than one series\n",
        "\n",
        "`raw_df[['Area', 'Location']]` returns DataFrame Object\n",
        "DataFrame is a 2-dimensional labeled data structure with columns of potentially different types."
      ],
      "metadata": {
        "id": "30W94vb_9-6J"
      }
    },
    {
      "cell_type": "markdown",
      "source": [
        "**Check for NULL Values**"
      ],
      "metadata": {
        "id": "pHMHNtLR-F0D"
      }
    },
    {
      "cell_type": "code",
      "source": [
        "raw_df.isna()"
      ],
      "metadata": {
        "id": "vJbsK4Bi9z4X"
      },
      "execution_count": null,
      "outputs": []
    },
    {
      "cell_type": "code",
      "source": [
        "raw_df.isna().sum()"
      ],
      "metadata": {
        "id": "bGs-H2yy-Oyo"
      },
      "execution_count": null,
      "outputs": []
    },
    {
      "cell_type": "code",
      "source": [
        "raw_df.dropna()"
      ],
      "metadata": {
        "id": "YCdFDvy_-Whp"
      },
      "execution_count": null,
      "outputs": []
    },
    {
      "cell_type": "code",
      "source": [
        "raw_df.dtypes"
      ],
      "metadata": {
        "id": "6cFfQSSE-bbZ"
      },
      "execution_count": null,
      "outputs": []
    },
    {
      "cell_type": "markdown",
      "source": [
        "### df.describe()\n",
        "\n",
        "- Generate descriptive statistics such as the central tendency, dispersion and shape of a dataset’s distribution, excluding NaN values.  \n",
        "- Analyzes both numeric and object series, as well as DataFrame column sets of mixed data types.  \n",
        "- The output will vary depending on what is provided. Refer to the notes below for more detail.  \n",
        "\n",
        "`DataFrame.describe(percentiles=None, include=None, exclude=None, datetime_is_numeric=False)`   \n",
        "\n",
        "For more details <a href=\"https://pandas.pydata.org/docs/reference/api/pandas.DataFrame.describe.html\" target=\"_blank\">Click here..</a>\n"
      ],
      "metadata": {
        "id": "enJ8pYzR-iYt"
      }
    },
    {
      "cell_type": "code",
      "execution_count": null,
      "metadata": {
        "id": "qIce8AWpYOCj"
      },
      "outputs": [],
      "source": [
        "raw_df.describe()"
      ]
    },
    {
      "cell_type": "code",
      "execution_count": null,
      "metadata": {
        "id": "m7Cnw3pyYOCk"
      },
      "outputs": [],
      "source": [
        "raw_df[[\"c\", \"mn\"]].describe()"
      ]
    },
    {
      "cell_type": "code",
      "execution_count": null,
      "metadata": {
        "id": "671STY6CYOCk"
      },
      "outputs": [],
      "source": [
        "raw_df.describe(include='all')"
      ]
    },
    {
      "cell_type": "code",
      "execution_count": 63,
      "metadata": {
        "id": "CgeOoTpcYOCk",
        "outputId": "1ba9f3ab-b30d-494a-e572-b53255932643",
        "colab": {
          "base_uri": "https://localhost:8080/"
        }
      },
      "outputs": [
        {
          "output_type": "execute_result",
          "data": {
            "text/plain": [
              "0.09644230769230769"
            ]
          },
          "metadata": {},
          "execution_count": 63
        }
      ],
      "source": [
        "raw_df[\"c\"].mean()"
      ]
    },
    {
      "cell_type": "code",
      "execution_count": 65,
      "metadata": {
        "id": "Rv4LYMHNYOCk",
        "outputId": "e943fa56-178f-4eeb-face-c3136ad329f5",
        "colab": {
          "base_uri": "https://localhost:8080/"
        }
      },
      "outputs": [
        {
          "output_type": "execute_result",
          "data": {
            "text/plain": [
              "c                    0.03\n",
              "yield strength    1344.20\n",
              "dtype: float64"
            ]
          },
          "metadata": {},
          "execution_count": 65
        }
      ],
      "source": [
        "raw_df[[\"c\", \"yield strength\"]].median()"
      ]
    },
    {
      "cell_type": "code",
      "execution_count": null,
      "metadata": {
        "id": "4hnwPwElYOCl"
      },
      "outputs": [],
      "source": [
        "raw_df[[\"c\", \"yield strength\"]].groupby(\"c\").mean()"
      ]
    },
    {
      "cell_type": "code",
      "execution_count": null,
      "metadata": {
        "id": "BVCUZbufYOCl"
      },
      "outputs": [],
      "source": [
        "raw_df.groupby(\"c\").mean()"
      ]
    },
    {
      "cell_type": "markdown",
      "source": [
        "We can use the drop parameter to avoid the old index being added as a column."
      ],
      "metadata": {
        "id": "OB_OXa1MABUj"
      }
    },
    {
      "cell_type": "code",
      "execution_count": null,
      "metadata": {
        "id": "GYkta5S9YOCm"
      },
      "outputs": [],
      "source": [
        "raw_df[raw_df['yield strength']>1900].reset_index(drop=False)"
      ]
    },
    {
      "cell_type": "code",
      "execution_count": null,
      "metadata": {
        "id": "XiDY-OhZYOCm"
      },
      "outputs": [],
      "source": [
        "raw_df[(raw_df['yield strength']>1700) & (raw_df['c']>0.2)].reset_index(drop=True)"
      ]
    },
    {
      "cell_type": "code",
      "execution_count": null,
      "metadata": {
        "id": "UUCZUsf_YOCm"
      },
      "outputs": [],
      "source": [
        "raw_df.c.mean()"
      ]
    },
    {
      "cell_type": "code",
      "execution_count": null,
      "metadata": {
        "id": "HZJoVbJdYOCn"
      },
      "outputs": [],
      "source": [
        "[(raw_df['yield strength']>1800) & (raw_df['c']>0.25)]"
      ]
    }
  ]
}