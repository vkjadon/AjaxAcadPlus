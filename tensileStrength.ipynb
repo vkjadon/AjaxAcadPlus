{
  "nbformat": 4,
  "nbformat_minor": 0,
  "metadata": {
    "colab": {
      "provenance": [],
      "authorship_tag": "ABX9TyMdZfVjVuAbveVTCLEAtGIX",
      "include_colab_link": true
    },
    "kernelspec": {
      "name": "python3",
      "display_name": "Python 3"
    },
    "language_info": {
      "name": "python"
    }
  },
  "cells": [
    {
      "cell_type": "markdown",
      "metadata": {
        "id": "view-in-github",
        "colab_type": "text"
      },
      "source": [
        "<a href=\"https://colab.research.google.com/github/vkjadon/AjaxAcadPlus/blob/master/tensileStrength.ipynb\" target=\"_parent\"><img src=\"https://colab.research.google.com/assets/colab-badge.svg\" alt=\"Open In Colab\"/></a>"
      ]
    },
    {
      "cell_type": "code",
      "execution_count": 3,
      "metadata": {
        "colab": {
          "base_uri": "https://localhost:8080/"
        },
        "id": "AWGzmswSzOrU",
        "outputId": "e126cffa-935a-4f53-e8f6-bb48224b77c1"
      },
      "outputs": [
        {
          "output_type": "stream",
          "name": "stdout",
          "text": [
            "mkdir: cannot create directory ‘/root/.kaggle’: File exists\n",
            "steel-test-data.zip: Skipping, found more recently modified local copy (use --force to force download)\n",
            "unzip:  cannot find or open /content/catvnoncat.zip, /content/catvnoncat.zip.zip or /content/catvnoncat.zip.ZIP.\n"
          ]
        }
      ],
      "source": [
        "!mkdir ~/.kaggle\n",
        "!cp kaggle.json ~/.kaggle/\n",
        "!chmod 600 ~/.kaggle/kaggle.json\n",
        "!kaggle datasets download -d fuarresvij/steel-test-data"
      ]
    },
    {
      "cell_type": "code",
      "source": [
        "!unzip /content/steel-test-data.zip -d /content"
      ],
      "metadata": {
        "colab": {
          "base_uri": "https://localhost:8080/"
        },
        "id": "utAuusvCz8bs",
        "outputId": "e76435da-2211-46ab-a8e2-49f18a53ef92"
      },
      "execution_count": 4,
      "outputs": [
        {
          "output_type": "stream",
          "name": "stdout",
          "text": [
            "Archive:  /content/steel-test-data.zip\n",
            "  inflating: /content/steel_strength.csv  \n"
          ]
        }
      ]
    },
    {
      "cell_type": "code",
      "source": [
        "import pandas as pd\n",
        "pd.set_option('display.max_columns',None)\n",
        "\n",
        "raw_df = pd.read_csv('steel_strength.csv')"
      ],
      "metadata": {
        "id": "AfQUh4lp1bWX"
      },
      "execution_count": 32,
      "outputs": []
    },
    {
      "cell_type": "code",
      "source": [
        "raw_df"
      ],
      "metadata": {
        "colab": {
          "base_uri": "https://localhost:8080/",
          "height": 505
        },
        "id": "OCP90voj2NGo",
        "outputId": "9dbbe010-dfc2-4a1c-84c9-f912d704bf60"
      },
      "execution_count": 33,
      "outputs": [
        {
          "output_type": "execute_result",
          "data": {
            "text/plain": [
              "                                               formula     c    mn    si  \\\n",
              "0    Fe0.620C0.000953Mn0.000521Si0.00102Cr0.000110N...  0.02  0.05  0.05   \n",
              "1    Fe0.623C0.00854Mn0.000104Si0.000203Cr0.147Ni0....  0.18  0.01  0.01   \n",
              "2    Fe0.625Mn0.000102Si0.000200Cr0.0936Ni0.129Mo0....  0.00  0.01  0.01   \n",
              "3    Fe0.634C0.000478Mn0.000523Si0.00102Cr0.000111N...  0.01  0.05  0.05   \n",
              "4    Fe0.636C0.000474Mn0.000518Si0.00101Cr0.000109N...  0.01  0.05  0.05   \n",
              "..                                                 ...   ...   ...   ...   \n",
              "307  Fe0.823C0.0176Mn0.00183Si0.000198Cr0.0779Ni0.0...  0.38  0.18  0.01   \n",
              "308  Fe0.823Mn0.000618Si0.00101Cr0.0561Ni0.0984Mo0....  0.00  0.06  0.05   \n",
              "309  Fe0.825C0.0174Mn0.00175Si0.000201Cr0.0565Ni0.0...  0.37  0.17  0.01   \n",
              "310  Fe0.858C0.0191Mn0.00194Si0.000199Cr0.0753Ni0.0...  0.41  0.19  0.01   \n",
              "311  Fe0.860C0.0125Mn0.00274Si0.000198Cr0.00439Ni0....  0.27  0.27  0.01   \n",
              "\n",
              "        cr     ni    mo     v     n    nb     co     w    al    ti  \\\n",
              "0     0.01  19.70  2.95  0.01  0.00  0.01  15.00  0.00  0.15  1.55   \n",
              "1    13.44   0.01  3.01  0.46  0.04  0.01  19.46  2.35  0.04  0.00   \n",
              "2     8.67  13.45  0.82  0.01  0.00  0.01  13.90  0.00  0.39  0.57   \n",
              "3     0.01  17.70  3.95  0.01  0.00  0.01  15.00  0.00  0.13  1.47   \n",
              "4     0.01  19.40  1.45  0.01  0.00  0.01  14.90  0.00  0.13  1.55   \n",
              "..     ...    ...   ...   ...   ...   ...    ...   ...   ...   ...   \n",
              "307   7.27   0.01  3.77  0.96  0.00  0.01   4.90  0.00  0.03  0.00   \n",
              "308   5.15  10.20  3.20  0.01  0.00  0.01   0.01  0.00  0.03  0.09   \n",
              "309   5.20   0.01  5.84  1.05  0.00  0.91   4.88  0.00  0.03  0.00   \n",
              "310   6.99   0.01  5.84  0.92  0.00  0.01   0.02  0.00  0.03  0.00   \n",
              "311   0.41   8.28  0.49  0.07  0.00  0.01   3.90  0.00  0.03  0.00   \n",
              "\n",
              "     yield strength  tensile strength  elongation  \n",
              "0            2411.5            2473.5         7.0  \n",
              "1            1123.1            1929.2         8.0  \n",
              "2            1736.3            1871.8         NaN  \n",
              "3            2487.3            2514.9         9.0  \n",
              "4            2249.6            2315.0         8.5  \n",
              "..              ...               ...         ...  \n",
              "307          1722.5            1998.1         5.0  \n",
              "308          1019.0            1019.0        19.0  \n",
              "309          1860.3            2156.6         3.0  \n",
              "310          1812.1            2087.7         2.0  \n",
              "311          1139.7            1236.3        15.4  \n",
              "\n",
              "[312 rows x 17 columns]"
            ],
            "text/html": [
              "\n",
              "  <div id=\"df-cc2f049b-c1a0-43db-8b22-a4465a8320f5\">\n",
              "    <div class=\"colab-df-container\">\n",
              "      <div>\n",
              "<style scoped>\n",
              "    .dataframe tbody tr th:only-of-type {\n",
              "        vertical-align: middle;\n",
              "    }\n",
              "\n",
              "    .dataframe tbody tr th {\n",
              "        vertical-align: top;\n",
              "    }\n",
              "\n",
              "    .dataframe thead th {\n",
              "        text-align: right;\n",
              "    }\n",
              "</style>\n",
              "<table border=\"1\" class=\"dataframe\">\n",
              "  <thead>\n",
              "    <tr style=\"text-align: right;\">\n",
              "      <th></th>\n",
              "      <th>formula</th>\n",
              "      <th>c</th>\n",
              "      <th>mn</th>\n",
              "      <th>si</th>\n",
              "      <th>cr</th>\n",
              "      <th>ni</th>\n",
              "      <th>mo</th>\n",
              "      <th>v</th>\n",
              "      <th>n</th>\n",
              "      <th>nb</th>\n",
              "      <th>co</th>\n",
              "      <th>w</th>\n",
              "      <th>al</th>\n",
              "      <th>ti</th>\n",
              "      <th>yield strength</th>\n",
              "      <th>tensile strength</th>\n",
              "      <th>elongation</th>\n",
              "    </tr>\n",
              "  </thead>\n",
              "  <tbody>\n",
              "    <tr>\n",
              "      <th>0</th>\n",
              "      <td>Fe0.620C0.000953Mn0.000521Si0.00102Cr0.000110N...</td>\n",
              "      <td>0.02</td>\n",
              "      <td>0.05</td>\n",
              "      <td>0.05</td>\n",
              "      <td>0.01</td>\n",
              "      <td>19.70</td>\n",
              "      <td>2.95</td>\n",
              "      <td>0.01</td>\n",
              "      <td>0.00</td>\n",
              "      <td>0.01</td>\n",
              "      <td>15.00</td>\n",
              "      <td>0.00</td>\n",
              "      <td>0.15</td>\n",
              "      <td>1.55</td>\n",
              "      <td>2411.5</td>\n",
              "      <td>2473.5</td>\n",
              "      <td>7.0</td>\n",
              "    </tr>\n",
              "    <tr>\n",
              "      <th>1</th>\n",
              "      <td>Fe0.623C0.00854Mn0.000104Si0.000203Cr0.147Ni0....</td>\n",
              "      <td>0.18</td>\n",
              "      <td>0.01</td>\n",
              "      <td>0.01</td>\n",
              "      <td>13.44</td>\n",
              "      <td>0.01</td>\n",
              "      <td>3.01</td>\n",
              "      <td>0.46</td>\n",
              "      <td>0.04</td>\n",
              "      <td>0.01</td>\n",
              "      <td>19.46</td>\n",
              "      <td>2.35</td>\n",
              "      <td>0.04</td>\n",
              "      <td>0.00</td>\n",
              "      <td>1123.1</td>\n",
              "      <td>1929.2</td>\n",
              "      <td>8.0</td>\n",
              "    </tr>\n",
              "    <tr>\n",
              "      <th>2</th>\n",
              "      <td>Fe0.625Mn0.000102Si0.000200Cr0.0936Ni0.129Mo0....</td>\n",
              "      <td>0.00</td>\n",
              "      <td>0.01</td>\n",
              "      <td>0.01</td>\n",
              "      <td>8.67</td>\n",
              "      <td>13.45</td>\n",
              "      <td>0.82</td>\n",
              "      <td>0.01</td>\n",
              "      <td>0.00</td>\n",
              "      <td>0.01</td>\n",
              "      <td>13.90</td>\n",
              "      <td>0.00</td>\n",
              "      <td>0.39</td>\n",
              "      <td>0.57</td>\n",
              "      <td>1736.3</td>\n",
              "      <td>1871.8</td>\n",
              "      <td>NaN</td>\n",
              "    </tr>\n",
              "    <tr>\n",
              "      <th>3</th>\n",
              "      <td>Fe0.634C0.000478Mn0.000523Si0.00102Cr0.000111N...</td>\n",
              "      <td>0.01</td>\n",
              "      <td>0.05</td>\n",
              "      <td>0.05</td>\n",
              "      <td>0.01</td>\n",
              "      <td>17.70</td>\n",
              "      <td>3.95</td>\n",
              "      <td>0.01</td>\n",
              "      <td>0.00</td>\n",
              "      <td>0.01</td>\n",
              "      <td>15.00</td>\n",
              "      <td>0.00</td>\n",
              "      <td>0.13</td>\n",
              "      <td>1.47</td>\n",
              "      <td>2487.3</td>\n",
              "      <td>2514.9</td>\n",
              "      <td>9.0</td>\n",
              "    </tr>\n",
              "    <tr>\n",
              "      <th>4</th>\n",
              "      <td>Fe0.636C0.000474Mn0.000518Si0.00101Cr0.000109N...</td>\n",
              "      <td>0.01</td>\n",
              "      <td>0.05</td>\n",
              "      <td>0.05</td>\n",
              "      <td>0.01</td>\n",
              "      <td>19.40</td>\n",
              "      <td>1.45</td>\n",
              "      <td>0.01</td>\n",
              "      <td>0.00</td>\n",
              "      <td>0.01</td>\n",
              "      <td>14.90</td>\n",
              "      <td>0.00</td>\n",
              "      <td>0.13</td>\n",
              "      <td>1.55</td>\n",
              "      <td>2249.6</td>\n",
              "      <td>2315.0</td>\n",
              "      <td>8.5</td>\n",
              "    </tr>\n",
              "    <tr>\n",
              "      <th>...</th>\n",
              "      <td>...</td>\n",
              "      <td>...</td>\n",
              "      <td>...</td>\n",
              "      <td>...</td>\n",
              "      <td>...</td>\n",
              "      <td>...</td>\n",
              "      <td>...</td>\n",
              "      <td>...</td>\n",
              "      <td>...</td>\n",
              "      <td>...</td>\n",
              "      <td>...</td>\n",
              "      <td>...</td>\n",
              "      <td>...</td>\n",
              "      <td>...</td>\n",
              "      <td>...</td>\n",
              "      <td>...</td>\n",
              "      <td>...</td>\n",
              "    </tr>\n",
              "    <tr>\n",
              "      <th>307</th>\n",
              "      <td>Fe0.823C0.0176Mn0.00183Si0.000198Cr0.0779Ni0.0...</td>\n",
              "      <td>0.38</td>\n",
              "      <td>0.18</td>\n",
              "      <td>0.01</td>\n",
              "      <td>7.27</td>\n",
              "      <td>0.01</td>\n",
              "      <td>3.77</td>\n",
              "      <td>0.96</td>\n",
              "      <td>0.00</td>\n",
              "      <td>0.01</td>\n",
              "      <td>4.90</td>\n",
              "      <td>0.00</td>\n",
              "      <td>0.03</td>\n",
              "      <td>0.00</td>\n",
              "      <td>1722.5</td>\n",
              "      <td>1998.1</td>\n",
              "      <td>5.0</td>\n",
              "    </tr>\n",
              "    <tr>\n",
              "      <th>308</th>\n",
              "      <td>Fe0.823Mn0.000618Si0.00101Cr0.0561Ni0.0984Mo0....</td>\n",
              "      <td>0.00</td>\n",
              "      <td>0.06</td>\n",
              "      <td>0.05</td>\n",
              "      <td>5.15</td>\n",
              "      <td>10.20</td>\n",
              "      <td>3.20</td>\n",
              "      <td>0.01</td>\n",
              "      <td>0.00</td>\n",
              "      <td>0.01</td>\n",
              "      <td>0.01</td>\n",
              "      <td>0.00</td>\n",
              "      <td>0.03</td>\n",
              "      <td>0.09</td>\n",
              "      <td>1019.0</td>\n",
              "      <td>1019.0</td>\n",
              "      <td>19.0</td>\n",
              "    </tr>\n",
              "    <tr>\n",
              "      <th>309</th>\n",
              "      <td>Fe0.825C0.0174Mn0.00175Si0.000201Cr0.0565Ni0.0...</td>\n",
              "      <td>0.37</td>\n",
              "      <td>0.17</td>\n",
              "      <td>0.01</td>\n",
              "      <td>5.20</td>\n",
              "      <td>0.01</td>\n",
              "      <td>5.84</td>\n",
              "      <td>1.05</td>\n",
              "      <td>0.00</td>\n",
              "      <td>0.91</td>\n",
              "      <td>4.88</td>\n",
              "      <td>0.00</td>\n",
              "      <td>0.03</td>\n",
              "      <td>0.00</td>\n",
              "      <td>1860.3</td>\n",
              "      <td>2156.6</td>\n",
              "      <td>3.0</td>\n",
              "    </tr>\n",
              "    <tr>\n",
              "      <th>310</th>\n",
              "      <td>Fe0.858C0.0191Mn0.00194Si0.000199Cr0.0753Ni0.0...</td>\n",
              "      <td>0.41</td>\n",
              "      <td>0.19</td>\n",
              "      <td>0.01</td>\n",
              "      <td>6.99</td>\n",
              "      <td>0.01</td>\n",
              "      <td>5.84</td>\n",
              "      <td>0.92</td>\n",
              "      <td>0.00</td>\n",
              "      <td>0.01</td>\n",
              "      <td>0.02</td>\n",
              "      <td>0.00</td>\n",
              "      <td>0.03</td>\n",
              "      <td>0.00</td>\n",
              "      <td>1812.1</td>\n",
              "      <td>2087.7</td>\n",
              "      <td>2.0</td>\n",
              "    </tr>\n",
              "    <tr>\n",
              "      <th>311</th>\n",
              "      <td>Fe0.860C0.0125Mn0.00274Si0.000198Cr0.00439Ni0....</td>\n",
              "      <td>0.27</td>\n",
              "      <td>0.27</td>\n",
              "      <td>0.01</td>\n",
              "      <td>0.41</td>\n",
              "      <td>8.28</td>\n",
              "      <td>0.49</td>\n",
              "      <td>0.07</td>\n",
              "      <td>0.00</td>\n",
              "      <td>0.01</td>\n",
              "      <td>3.90</td>\n",
              "      <td>0.00</td>\n",
              "      <td>0.03</td>\n",
              "      <td>0.00</td>\n",
              "      <td>1139.7</td>\n",
              "      <td>1236.3</td>\n",
              "      <td>15.4</td>\n",
              "    </tr>\n",
              "  </tbody>\n",
              "</table>\n",
              "<p>312 rows × 17 columns</p>\n",
              "</div>\n",
              "      <button class=\"colab-df-convert\" onclick=\"convertToInteractive('df-cc2f049b-c1a0-43db-8b22-a4465a8320f5')\"\n",
              "              title=\"Convert this dataframe to an interactive table.\"\n",
              "              style=\"display:none;\">\n",
              "        \n",
              "  <svg xmlns=\"http://www.w3.org/2000/svg\" height=\"24px\"viewBox=\"0 0 24 24\"\n",
              "       width=\"24px\">\n",
              "    <path d=\"M0 0h24v24H0V0z\" fill=\"none\"/>\n",
              "    <path d=\"M18.56 5.44l.94 2.06.94-2.06 2.06-.94-2.06-.94-.94-2.06-.94 2.06-2.06.94zm-11 1L8.5 8.5l.94-2.06 2.06-.94-2.06-.94L8.5 2.5l-.94 2.06-2.06.94zm10 10l.94 2.06.94-2.06 2.06-.94-2.06-.94-.94-2.06-.94 2.06-2.06.94z\"/><path d=\"M17.41 7.96l-1.37-1.37c-.4-.4-.92-.59-1.43-.59-.52 0-1.04.2-1.43.59L10.3 9.45l-7.72 7.72c-.78.78-.78 2.05 0 2.83L4 21.41c.39.39.9.59 1.41.59.51 0 1.02-.2 1.41-.59l7.78-7.78 2.81-2.81c.8-.78.8-2.07 0-2.86zM5.41 20L4 18.59l7.72-7.72 1.47 1.35L5.41 20z\"/>\n",
              "  </svg>\n",
              "      </button>\n",
              "      \n",
              "  <style>\n",
              "    .colab-df-container {\n",
              "      display:flex;\n",
              "      flex-wrap:wrap;\n",
              "      gap: 12px;\n",
              "    }\n",
              "\n",
              "    .colab-df-convert {\n",
              "      background-color: #E8F0FE;\n",
              "      border: none;\n",
              "      border-radius: 50%;\n",
              "      cursor: pointer;\n",
              "      display: none;\n",
              "      fill: #1967D2;\n",
              "      height: 32px;\n",
              "      padding: 0 0 0 0;\n",
              "      width: 32px;\n",
              "    }\n",
              "\n",
              "    .colab-df-convert:hover {\n",
              "      background-color: #E2EBFA;\n",
              "      box-shadow: 0px 1px 2px rgba(60, 64, 67, 0.3), 0px 1px 3px 1px rgba(60, 64, 67, 0.15);\n",
              "      fill: #174EA6;\n",
              "    }\n",
              "\n",
              "    [theme=dark] .colab-df-convert {\n",
              "      background-color: #3B4455;\n",
              "      fill: #D2E3FC;\n",
              "    }\n",
              "\n",
              "    [theme=dark] .colab-df-convert:hover {\n",
              "      background-color: #434B5C;\n",
              "      box-shadow: 0px 1px 3px 1px rgba(0, 0, 0, 0.15);\n",
              "      filter: drop-shadow(0px 1px 2px rgba(0, 0, 0, 0.3));\n",
              "      fill: #FFFFFF;\n",
              "    }\n",
              "  </style>\n",
              "\n",
              "      <script>\n",
              "        const buttonEl =\n",
              "          document.querySelector('#df-cc2f049b-c1a0-43db-8b22-a4465a8320f5 button.colab-df-convert');\n",
              "        buttonEl.style.display =\n",
              "          google.colab.kernel.accessAllowed ? 'block' : 'none';\n",
              "\n",
              "        async function convertToInteractive(key) {\n",
              "          const element = document.querySelector('#df-cc2f049b-c1a0-43db-8b22-a4465a8320f5');\n",
              "          const dataTable =\n",
              "            await google.colab.kernel.invokeFunction('convertToInteractive',\n",
              "                                                     [key], {});\n",
              "          if (!dataTable) return;\n",
              "\n",
              "          const docLinkHtml = 'Like what you see? Visit the ' +\n",
              "            '<a target=\"_blank\" href=https://colab.research.google.com/notebooks/data_table.ipynb>data table notebook</a>'\n",
              "            + ' to learn more about interactive tables.';\n",
              "          element.innerHTML = '';\n",
              "          dataTable['output_type'] = 'display_data';\n",
              "          await google.colab.output.renderOutput(dataTable, element);\n",
              "          const docLink = document.createElement('div');\n",
              "          docLink.innerHTML = docLinkHtml;\n",
              "          element.appendChild(docLink);\n",
              "        }\n",
              "      </script>\n",
              "    </div>\n",
              "  </div>\n",
              "  "
            ]
          },
          "metadata": {},
          "execution_count": 33
        }
      ]
    },
    {
      "cell_type": "code",
      "source": [
        "raw_df.info()"
      ],
      "metadata": {
        "colab": {
          "base_uri": "https://localhost:8080/"
        },
        "id": "Pc_Ie1Y62SqS",
        "outputId": "ebf7ec94-6ce3-4538-a824-d657f066e25b"
      },
      "execution_count": 34,
      "outputs": [
        {
          "output_type": "stream",
          "name": "stdout",
          "text": [
            "<class 'pandas.core.frame.DataFrame'>\n",
            "RangeIndex: 312 entries, 0 to 311\n",
            "Data columns (total 17 columns):\n",
            " #   Column            Non-Null Count  Dtype  \n",
            "---  ------            --------------  -----  \n",
            " 0   formula           312 non-null    object \n",
            " 1   c                 312 non-null    float64\n",
            " 2   mn                312 non-null    float64\n",
            " 3   si                312 non-null    float64\n",
            " 4   cr                312 non-null    float64\n",
            " 5   ni                312 non-null    float64\n",
            " 6   mo                312 non-null    float64\n",
            " 7   v                 312 non-null    float64\n",
            " 8   n                 312 non-null    float64\n",
            " 9   nb                312 non-null    float64\n",
            " 10  co                312 non-null    float64\n",
            " 11  w                 312 non-null    float64\n",
            " 12  al                312 non-null    float64\n",
            " 13  ti                312 non-null    float64\n",
            " 14  yield strength    312 non-null    float64\n",
            " 15  tensile strength  312 non-null    float64\n",
            " 16  elongation        303 non-null    float64\n",
            "dtypes: float64(16), object(1)\n",
            "memory usage: 41.6+ KB\n"
          ]
        }
      ]
    },
    {
      "cell_type": "code",
      "source": [
        "raw_df.shape"
      ],
      "metadata": {
        "colab": {
          "base_uri": "https://localhost:8080/"
        },
        "id": "5H0NocBQ4PFo",
        "outputId": "1c9d512d-558b-4a4e-b55f-92c07c831051"
      },
      "execution_count": 35,
      "outputs": [
        {
          "output_type": "execute_result",
          "data": {
            "text/plain": [
              "(312, 17)"
            ]
          },
          "metadata": {},
          "execution_count": 35
        }
      ]
    },
    {
      "cell_type": "code",
      "source": [
        "raw_df.columns"
      ],
      "metadata": {
        "colab": {
          "base_uri": "https://localhost:8080/"
        },
        "id": "ugUnbNgd460k",
        "outputId": "3721fb75-05b4-486f-ff0c-a4c9294f0d1a"
      },
      "execution_count": 36,
      "outputs": [
        {
          "output_type": "execute_result",
          "data": {
            "text/plain": [
              "Index(['formula', 'c', 'mn', 'si', 'cr', 'ni', 'mo', 'v', 'n', 'nb', 'co', 'w',\n",
              "       'al', 'ti', 'yield strength', 'tensile strength', 'elongation'],\n",
              "      dtype='object')"
            ]
          },
          "metadata": {},
          "execution_count": 36
        }
      ]
    },
    {
      "cell_type": "code",
      "source": [
        "type(raw_df)"
      ],
      "metadata": {
        "colab": {
          "base_uri": "https://localhost:8080/"
        },
        "id": "XZJ_RHfO48HR",
        "outputId": "de94fa76-dba1-4947-b9c7-eb896a18021c"
      },
      "execution_count": 37,
      "outputs": [
        {
          "output_type": "execute_result",
          "data": {
            "text/plain": [
              "pandas.core.frame.DataFrame"
            ]
          },
          "metadata": {},
          "execution_count": 37
        }
      ]
    },
    {
      "cell_type": "code",
      "source": [
        "# Show First Five rows\n",
        "raw_df.head()"
      ],
      "metadata": {
        "id": "WcoU20AS4-Se"
      },
      "execution_count": null,
      "outputs": []
    },
    {
      "cell_type": "code",
      "source": [],
      "metadata": {
        "id": "5AKB-S-Y5Ao1"
      },
      "execution_count": null,
      "outputs": []
    },
    {
      "cell_type": "markdown",
      "source": [
        "### Fetch ith row\n",
        "`df.loc[i]`"
      ],
      "metadata": {
        "id": "Syl7TO465Eu8"
      }
    },
    {
      "cell_type": "code",
      "source": [
        "raw_df.loc[10]"
      ],
      "metadata": {
        "id": "sA4hk2ZZ5FOQ"
      },
      "execution_count": null,
      "outputs": []
    },
    {
      "cell_type": "code",
      "source": [
        "raw_df[raw_df['ni']>16]"
      ],
      "metadata": {
        "id": "Y1obSZ5A5IKP"
      },
      "execution_count": null,
      "outputs": []
    },
    {
      "cell_type": "markdown",
      "source": [
        "##Columns of your choice"
      ],
      "metadata": {
        "id": "0La6nDts5twc"
      }
    },
    {
      "cell_type": "code",
      "source": [
        "features=['yield strength', 'tensile strength', 'elongation', 'c', 'mn']\n",
        "raw_df=raw_df[features]\n",
        "raw_df"
      ],
      "metadata": {
        "colab": {
          "base_uri": "https://localhost:8080/",
          "height": 424
        },
        "id": "vebv9rqm5sXn",
        "outputId": "8b285d6f-acdd-458a-d013-664184801554"
      },
      "execution_count": 45,
      "outputs": [
        {
          "output_type": "execute_result",
          "data": {
            "text/plain": [
              "     yield strength  tensile strength  elongation     c    mn\n",
              "0            2411.5            2473.5         7.0  0.02  0.05\n",
              "1            1123.1            1929.2         8.0  0.18  0.01\n",
              "2            1736.3            1871.8         NaN  0.00  0.01\n",
              "3            2487.3            2514.9         9.0  0.01  0.05\n",
              "4            2249.6            2315.0         8.5  0.01  0.05\n",
              "..              ...               ...         ...   ...   ...\n",
              "307          1722.5            1998.1         5.0  0.38  0.18\n",
              "308          1019.0            1019.0        19.0  0.00  0.06\n",
              "309          1860.3            2156.6         3.0  0.37  0.17\n",
              "310          1812.1            2087.7         2.0  0.41  0.19\n",
              "311          1139.7            1236.3        15.4  0.27  0.27\n",
              "\n",
              "[312 rows x 5 columns]"
            ],
            "text/html": [
              "\n",
              "  <div id=\"df-c46f21db-d0b5-4f7e-b8d7-de3964cea0a0\">\n",
              "    <div class=\"colab-df-container\">\n",
              "      <div>\n",
              "<style scoped>\n",
              "    .dataframe tbody tr th:only-of-type {\n",
              "        vertical-align: middle;\n",
              "    }\n",
              "\n",
              "    .dataframe tbody tr th {\n",
              "        vertical-align: top;\n",
              "    }\n",
              "\n",
              "    .dataframe thead th {\n",
              "        text-align: right;\n",
              "    }\n",
              "</style>\n",
              "<table border=\"1\" class=\"dataframe\">\n",
              "  <thead>\n",
              "    <tr style=\"text-align: right;\">\n",
              "      <th></th>\n",
              "      <th>yield strength</th>\n",
              "      <th>tensile strength</th>\n",
              "      <th>elongation</th>\n",
              "      <th>c</th>\n",
              "      <th>mn</th>\n",
              "    </tr>\n",
              "  </thead>\n",
              "  <tbody>\n",
              "    <tr>\n",
              "      <th>0</th>\n",
              "      <td>2411.5</td>\n",
              "      <td>2473.5</td>\n",
              "      <td>7.0</td>\n",
              "      <td>0.02</td>\n",
              "      <td>0.05</td>\n",
              "    </tr>\n",
              "    <tr>\n",
              "      <th>1</th>\n",
              "      <td>1123.1</td>\n",
              "      <td>1929.2</td>\n",
              "      <td>8.0</td>\n",
              "      <td>0.18</td>\n",
              "      <td>0.01</td>\n",
              "    </tr>\n",
              "    <tr>\n",
              "      <th>2</th>\n",
              "      <td>1736.3</td>\n",
              "      <td>1871.8</td>\n",
              "      <td>NaN</td>\n",
              "      <td>0.00</td>\n",
              "      <td>0.01</td>\n",
              "    </tr>\n",
              "    <tr>\n",
              "      <th>3</th>\n",
              "      <td>2487.3</td>\n",
              "      <td>2514.9</td>\n",
              "      <td>9.0</td>\n",
              "      <td>0.01</td>\n",
              "      <td>0.05</td>\n",
              "    </tr>\n",
              "    <tr>\n",
              "      <th>4</th>\n",
              "      <td>2249.6</td>\n",
              "      <td>2315.0</td>\n",
              "      <td>8.5</td>\n",
              "      <td>0.01</td>\n",
              "      <td>0.05</td>\n",
              "    </tr>\n",
              "    <tr>\n",
              "      <th>...</th>\n",
              "      <td>...</td>\n",
              "      <td>...</td>\n",
              "      <td>...</td>\n",
              "      <td>...</td>\n",
              "      <td>...</td>\n",
              "    </tr>\n",
              "    <tr>\n",
              "      <th>307</th>\n",
              "      <td>1722.5</td>\n",
              "      <td>1998.1</td>\n",
              "      <td>5.0</td>\n",
              "      <td>0.38</td>\n",
              "      <td>0.18</td>\n",
              "    </tr>\n",
              "    <tr>\n",
              "      <th>308</th>\n",
              "      <td>1019.0</td>\n",
              "      <td>1019.0</td>\n",
              "      <td>19.0</td>\n",
              "      <td>0.00</td>\n",
              "      <td>0.06</td>\n",
              "    </tr>\n",
              "    <tr>\n",
              "      <th>309</th>\n",
              "      <td>1860.3</td>\n",
              "      <td>2156.6</td>\n",
              "      <td>3.0</td>\n",
              "      <td>0.37</td>\n",
              "      <td>0.17</td>\n",
              "    </tr>\n",
              "    <tr>\n",
              "      <th>310</th>\n",
              "      <td>1812.1</td>\n",
              "      <td>2087.7</td>\n",
              "      <td>2.0</td>\n",
              "      <td>0.41</td>\n",
              "      <td>0.19</td>\n",
              "    </tr>\n",
              "    <tr>\n",
              "      <th>311</th>\n",
              "      <td>1139.7</td>\n",
              "      <td>1236.3</td>\n",
              "      <td>15.4</td>\n",
              "      <td>0.27</td>\n",
              "      <td>0.27</td>\n",
              "    </tr>\n",
              "  </tbody>\n",
              "</table>\n",
              "<p>312 rows × 5 columns</p>\n",
              "</div>\n",
              "      <button class=\"colab-df-convert\" onclick=\"convertToInteractive('df-c46f21db-d0b5-4f7e-b8d7-de3964cea0a0')\"\n",
              "              title=\"Convert this dataframe to an interactive table.\"\n",
              "              style=\"display:none;\">\n",
              "        \n",
              "  <svg xmlns=\"http://www.w3.org/2000/svg\" height=\"24px\"viewBox=\"0 0 24 24\"\n",
              "       width=\"24px\">\n",
              "    <path d=\"M0 0h24v24H0V0z\" fill=\"none\"/>\n",
              "    <path d=\"M18.56 5.44l.94 2.06.94-2.06 2.06-.94-2.06-.94-.94-2.06-.94 2.06-2.06.94zm-11 1L8.5 8.5l.94-2.06 2.06-.94-2.06-.94L8.5 2.5l-.94 2.06-2.06.94zm10 10l.94 2.06.94-2.06 2.06-.94-2.06-.94-.94-2.06-.94 2.06-2.06.94z\"/><path d=\"M17.41 7.96l-1.37-1.37c-.4-.4-.92-.59-1.43-.59-.52 0-1.04.2-1.43.59L10.3 9.45l-7.72 7.72c-.78.78-.78 2.05 0 2.83L4 21.41c.39.39.9.59 1.41.59.51 0 1.02-.2 1.41-.59l7.78-7.78 2.81-2.81c.8-.78.8-2.07 0-2.86zM5.41 20L4 18.59l7.72-7.72 1.47 1.35L5.41 20z\"/>\n",
              "  </svg>\n",
              "      </button>\n",
              "      \n",
              "  <style>\n",
              "    .colab-df-container {\n",
              "      display:flex;\n",
              "      flex-wrap:wrap;\n",
              "      gap: 12px;\n",
              "    }\n",
              "\n",
              "    .colab-df-convert {\n",
              "      background-color: #E8F0FE;\n",
              "      border: none;\n",
              "      border-radius: 50%;\n",
              "      cursor: pointer;\n",
              "      display: none;\n",
              "      fill: #1967D2;\n",
              "      height: 32px;\n",
              "      padding: 0 0 0 0;\n",
              "      width: 32px;\n",
              "    }\n",
              "\n",
              "    .colab-df-convert:hover {\n",
              "      background-color: #E2EBFA;\n",
              "      box-shadow: 0px 1px 2px rgba(60, 64, 67, 0.3), 0px 1px 3px 1px rgba(60, 64, 67, 0.15);\n",
              "      fill: #174EA6;\n",
              "    }\n",
              "\n",
              "    [theme=dark] .colab-df-convert {\n",
              "      background-color: #3B4455;\n",
              "      fill: #D2E3FC;\n",
              "    }\n",
              "\n",
              "    [theme=dark] .colab-df-convert:hover {\n",
              "      background-color: #434B5C;\n",
              "      box-shadow: 0px 1px 3px 1px rgba(0, 0, 0, 0.15);\n",
              "      filter: drop-shadow(0px 1px 2px rgba(0, 0, 0, 0.3));\n",
              "      fill: #FFFFFF;\n",
              "    }\n",
              "  </style>\n",
              "\n",
              "      <script>\n",
              "        const buttonEl =\n",
              "          document.querySelector('#df-c46f21db-d0b5-4f7e-b8d7-de3964cea0a0 button.colab-df-convert');\n",
              "        buttonEl.style.display =\n",
              "          google.colab.kernel.accessAllowed ? 'block' : 'none';\n",
              "\n",
              "        async function convertToInteractive(key) {\n",
              "          const element = document.querySelector('#df-c46f21db-d0b5-4f7e-b8d7-de3964cea0a0');\n",
              "          const dataTable =\n",
              "            await google.colab.kernel.invokeFunction('convertToInteractive',\n",
              "                                                     [key], {});\n",
              "          if (!dataTable) return;\n",
              "\n",
              "          const docLinkHtml = 'Like what you see? Visit the ' +\n",
              "            '<a target=\"_blank\" href=https://colab.research.google.com/notebooks/data_table.ipynb>data table notebook</a>'\n",
              "            + ' to learn more about interactive tables.';\n",
              "          element.innerHTML = '';\n",
              "          dataTable['output_type'] = 'display_data';\n",
              "          await google.colab.output.renderOutput(dataTable, element);\n",
              "          const docLink = document.createElement('div');\n",
              "          docLink.innerHTML = docLinkHtml;\n",
              "          element.appendChild(docLink);\n",
              "        }\n",
              "      </script>\n",
              "    </div>\n",
              "  </div>\n",
              "  "
            ]
          },
          "metadata": {},
          "execution_count": 45
        }
      ]
    },
    {
      "cell_type": "code",
      "source": [
        "type(raw_df.mn)"
      ],
      "metadata": {
        "colab": {
          "base_uri": "https://localhost:8080/"
        },
        "id": "yBiKjlC-6DZj",
        "outputId": "625f8531-85cb-497f-beb2-0cf820f0f9c7"
      },
      "execution_count": 47,
      "outputs": [
        {
          "output_type": "execute_result",
          "data": {
            "text/plain": [
              "pandas.core.series.Series"
            ]
          },
          "metadata": {},
          "execution_count": 47
        }
      ]
    },
    {
      "cell_type": "code",
      "source": [
        "raw_df.mn>0.1"
      ],
      "metadata": {
        "colab": {
          "base_uri": "https://localhost:8080/"
        },
        "id": "suzKvxOw9MD0",
        "outputId": "41e5beef-d74d-40da-9c59-c3140943803c"
      },
      "execution_count": 49,
      "outputs": [
        {
          "output_type": "execute_result",
          "data": {
            "text/plain": [
              "0      False\n",
              "1      False\n",
              "2      False\n",
              "3      False\n",
              "4      False\n",
              "       ...  \n",
              "307     True\n",
              "308    False\n",
              "309     True\n",
              "310     True\n",
              "311     True\n",
              "Name: mn, Length: 312, dtype: bool"
            ]
          },
          "metadata": {},
          "execution_count": 49
        }
      ]
    },
    {
      "cell_type": "code",
      "source": [
        "raw_df[raw_df[\"mn\"]>0.1]"
      ],
      "metadata": {
        "id": "YmUCw0Kd9QNX"
      },
      "execution_count": null,
      "outputs": []
    },
    {
      "cell_type": "code",
      "source": [
        "raw_df[raw_df.mn>0.1]"
      ],
      "metadata": {
        "id": "Juwk9cJ-9pqX"
      },
      "execution_count": null,
      "outputs": []
    },
    {
      "cell_type": "markdown",
      "source": [
        "`raw_df['Area']` returns Series Object.   \n",
        "Series can only contain single list with index, whereas dataframe can be made of more than one series\n",
        "\n",
        "`raw_df[['Area', 'Location']]` returns DataFrame Object\n",
        "DataFrame is a 2-dimensional labeled data structure with columns of potentially different types."
      ],
      "metadata": {
        "id": "30W94vb_9-6J"
      }
    },
    {
      "cell_type": "markdown",
      "source": [
        "**Check for NULL Values**"
      ],
      "metadata": {
        "id": "pHMHNtLR-F0D"
      }
    },
    {
      "cell_type": "code",
      "source": [
        "raw_df.isna()"
      ],
      "metadata": {
        "id": "vJbsK4Bi9z4X"
      },
      "execution_count": null,
      "outputs": []
    },
    {
      "cell_type": "code",
      "source": [
        "raw_df.isna().sum()"
      ],
      "metadata": {
        "id": "bGs-H2yy-Oyo"
      },
      "execution_count": null,
      "outputs": []
    },
    {
      "cell_type": "code",
      "source": [
        "raw_df.dropna()"
      ],
      "metadata": {
        "id": "YCdFDvy_-Whp"
      },
      "execution_count": null,
      "outputs": []
    },
    {
      "cell_type": "code",
      "source": [
        "raw_df.dtypes"
      ],
      "metadata": {
        "colab": {
          "base_uri": "https://localhost:8080/"
        },
        "id": "6cFfQSSE-bbZ",
        "outputId": "9d3101f7-e88f-490c-e5e0-e5d5474633b4"
      },
      "execution_count": 58,
      "outputs": [
        {
          "output_type": "execute_result",
          "data": {
            "text/plain": [
              "yield strength      float64\n",
              "tensile strength    float64\n",
              "elongation          float64\n",
              "c                   float64\n",
              "mn                  float64\n",
              "dtype: object"
            ]
          },
          "metadata": {},
          "execution_count": 58
        }
      ]
    },
    {
      "cell_type": "markdown",
      "source": [
        "### df.describe()\n",
        "\n",
        "- Generate descriptive statistics such as the central tendency, dispersion and shape of a dataset’s distribution, excluding NaN values.  \n",
        "- Analyzes both numeric and object series, as well as DataFrame column sets of mixed data types.  \n",
        "- The output will vary depending on what is provided. Refer to the notes below for more detail.  \n",
        "\n",
        "`DataFrame.describe(percentiles=None, include=None, exclude=None, datetime_is_numeric=False)`   \n",
        "\n",
        "For more details <a href=\"https://pandas.pydata.org/docs/reference/api/pandas.DataFrame.describe.html\" target=\"_blank\">Click here..</a>\n"
      ],
      "metadata": {
        "id": "enJ8pYzR-iYt"
      }
    },
    {
      "cell_type": "code",
      "execution_count": null,
      "metadata": {
        "id": "qIce8AWpYOCj"
      },
      "outputs": [],
      "source": [
        "raw_df.describe()"
      ]
    },
    {
      "cell_type": "code",
      "execution_count": null,
      "metadata": {
        "id": "m7Cnw3pyYOCk"
      },
      "outputs": [],
      "source": [
        "raw_df[[\"c\", \"mn\"]].describe()"
      ]
    },
    {
      "cell_type": "code",
      "execution_count": null,
      "metadata": {
        "id": "671STY6CYOCk"
      },
      "outputs": [],
      "source": [
        "raw_df.describe(include='all')"
      ]
    },
    {
      "cell_type": "code",
      "execution_count": null,
      "metadata": {
        "id": "5j7sk6lIYOCk"
      },
      "outputs": [],
      "source": [
        "raw_df.describe(include=[object])"
      ]
    },
    {
      "cell_type": "code",
      "execution_count": 63,
      "metadata": {
        "id": "CgeOoTpcYOCk",
        "outputId": "1ba9f3ab-b30d-494a-e572-b53255932643",
        "colab": {
          "base_uri": "https://localhost:8080/"
        }
      },
      "outputs": [
        {
          "output_type": "execute_result",
          "data": {
            "text/plain": [
              "0.09644230769230769"
            ]
          },
          "metadata": {},
          "execution_count": 63
        }
      ],
      "source": [
        "raw_df[\"c\"].mean()"
      ]
    },
    {
      "cell_type": "code",
      "execution_count": 65,
      "metadata": {
        "id": "Rv4LYMHNYOCk",
        "outputId": "e943fa56-178f-4eeb-face-c3136ad329f5",
        "colab": {
          "base_uri": "https://localhost:8080/"
        }
      },
      "outputs": [
        {
          "output_type": "execute_result",
          "data": {
            "text/plain": [
              "c                    0.03\n",
              "yield strength    1344.20\n",
              "dtype: float64"
            ]
          },
          "metadata": {},
          "execution_count": 65
        }
      ],
      "source": [
        "raw_df[[\"c\", \"yield strength\"]].median()"
      ]
    },
    {
      "cell_type": "code",
      "execution_count": null,
      "metadata": {
        "id": "4hnwPwElYOCl"
      },
      "outputs": [],
      "source": [
        "raw_df[[\"c\", \"yield strength\"]].groupby(\"c\").mean()"
      ]
    },
    {
      "cell_type": "code",
      "execution_count": null,
      "metadata": {
        "id": "BVCUZbufYOCl"
      },
      "outputs": [],
      "source": [
        "raw_df.groupby(\"c\").mean()"
      ]
    },
    {
      "cell_type": "markdown",
      "source": [
        "We can use the drop parameter to avoid the old index being added as a column."
      ],
      "metadata": {
        "id": "OB_OXa1MABUj"
      }
    },
    {
      "cell_type": "code",
      "execution_count": null,
      "metadata": {
        "id": "GYkta5S9YOCm"
      },
      "outputs": [],
      "source": [
        "raw_df[raw_df['yield strength']>1900].reset_index(drop=False)"
      ]
    },
    {
      "cell_type": "code",
      "execution_count": 73,
      "metadata": {
        "id": "XiDY-OhZYOCm",
        "outputId": "0141c167-3dbb-4e6f-b449-b94184ecf6cc",
        "colab": {
          "base_uri": "https://localhost:8080/",
          "height": 645
        }
      },
      "outputs": [
        {
          "output_type": "execute_result",
          "data": {
            "text/plain": [
              "    yield strength  tensile strength  elongation     c    mn\n",
              "0           1731.7            2232.4         NaN  0.35  0.01\n",
              "1           1810.0            1970.0        12.2  0.22  0.01\n",
              "2           1777.6            1954.6        15.6  0.23  0.01\n",
              "3           1743.5            1925.4        16.8  0.22  0.01\n",
              "4           1792.1            1991.2        15.0  0.21  0.01\n",
              "5           1741.8            1933.4        15.6  0.23  0.01\n",
              "6           1746.6            1945.8        14.8  0.23  0.01\n",
              "7           1804.2            2010.8        15.9  0.24  0.01\n",
              "8           1795.5            1991.9        13.4  0.21  0.01\n",
              "9           1818.0            2022.2        14.4  0.23  0.01\n",
              "10          1846.5            2177.2         6.0  0.36  0.22\n",
              "11          1798.3            2135.9         6.0  0.40  0.18\n",
              "12          1784.5            2129.0         5.0  0.37  0.18\n",
              "13          1819.0            2135.9         6.0  0.36  0.21\n",
              "14          1736.3            2039.4         6.0  0.43  0.21\n",
              "15          1805.2            2101.5         4.0  0.40  0.14\n",
              "16          1722.5            1998.1         5.0  0.38  0.18\n",
              "17          1860.3            2156.6         3.0  0.37  0.17\n",
              "18          1812.1            2087.7         2.0  0.41  0.19"
            ],
            "text/html": [
              "\n",
              "  <div id=\"df-da0db659-1b74-44a3-9819-7a5d29661eb3\">\n",
              "    <div class=\"colab-df-container\">\n",
              "      <div>\n",
              "<style scoped>\n",
              "    .dataframe tbody tr th:only-of-type {\n",
              "        vertical-align: middle;\n",
              "    }\n",
              "\n",
              "    .dataframe tbody tr th {\n",
              "        vertical-align: top;\n",
              "    }\n",
              "\n",
              "    .dataframe thead th {\n",
              "        text-align: right;\n",
              "    }\n",
              "</style>\n",
              "<table border=\"1\" class=\"dataframe\">\n",
              "  <thead>\n",
              "    <tr style=\"text-align: right;\">\n",
              "      <th></th>\n",
              "      <th>yield strength</th>\n",
              "      <th>tensile strength</th>\n",
              "      <th>elongation</th>\n",
              "      <th>c</th>\n",
              "      <th>mn</th>\n",
              "    </tr>\n",
              "  </thead>\n",
              "  <tbody>\n",
              "    <tr>\n",
              "      <th>0</th>\n",
              "      <td>1731.7</td>\n",
              "      <td>2232.4</td>\n",
              "      <td>NaN</td>\n",
              "      <td>0.35</td>\n",
              "      <td>0.01</td>\n",
              "    </tr>\n",
              "    <tr>\n",
              "      <th>1</th>\n",
              "      <td>1810.0</td>\n",
              "      <td>1970.0</td>\n",
              "      <td>12.2</td>\n",
              "      <td>0.22</td>\n",
              "      <td>0.01</td>\n",
              "    </tr>\n",
              "    <tr>\n",
              "      <th>2</th>\n",
              "      <td>1777.6</td>\n",
              "      <td>1954.6</td>\n",
              "      <td>15.6</td>\n",
              "      <td>0.23</td>\n",
              "      <td>0.01</td>\n",
              "    </tr>\n",
              "    <tr>\n",
              "      <th>3</th>\n",
              "      <td>1743.5</td>\n",
              "      <td>1925.4</td>\n",
              "      <td>16.8</td>\n",
              "      <td>0.22</td>\n",
              "      <td>0.01</td>\n",
              "    </tr>\n",
              "    <tr>\n",
              "      <th>4</th>\n",
              "      <td>1792.1</td>\n",
              "      <td>1991.2</td>\n",
              "      <td>15.0</td>\n",
              "      <td>0.21</td>\n",
              "      <td>0.01</td>\n",
              "    </tr>\n",
              "    <tr>\n",
              "      <th>5</th>\n",
              "      <td>1741.8</td>\n",
              "      <td>1933.4</td>\n",
              "      <td>15.6</td>\n",
              "      <td>0.23</td>\n",
              "      <td>0.01</td>\n",
              "    </tr>\n",
              "    <tr>\n",
              "      <th>6</th>\n",
              "      <td>1746.6</td>\n",
              "      <td>1945.8</td>\n",
              "      <td>14.8</td>\n",
              "      <td>0.23</td>\n",
              "      <td>0.01</td>\n",
              "    </tr>\n",
              "    <tr>\n",
              "      <th>7</th>\n",
              "      <td>1804.2</td>\n",
              "      <td>2010.8</td>\n",
              "      <td>15.9</td>\n",
              "      <td>0.24</td>\n",
              "      <td>0.01</td>\n",
              "    </tr>\n",
              "    <tr>\n",
              "      <th>8</th>\n",
              "      <td>1795.5</td>\n",
              "      <td>1991.9</td>\n",
              "      <td>13.4</td>\n",
              "      <td>0.21</td>\n",
              "      <td>0.01</td>\n",
              "    </tr>\n",
              "    <tr>\n",
              "      <th>9</th>\n",
              "      <td>1818.0</td>\n",
              "      <td>2022.2</td>\n",
              "      <td>14.4</td>\n",
              "      <td>0.23</td>\n",
              "      <td>0.01</td>\n",
              "    </tr>\n",
              "    <tr>\n",
              "      <th>10</th>\n",
              "      <td>1846.5</td>\n",
              "      <td>2177.2</td>\n",
              "      <td>6.0</td>\n",
              "      <td>0.36</td>\n",
              "      <td>0.22</td>\n",
              "    </tr>\n",
              "    <tr>\n",
              "      <th>11</th>\n",
              "      <td>1798.3</td>\n",
              "      <td>2135.9</td>\n",
              "      <td>6.0</td>\n",
              "      <td>0.40</td>\n",
              "      <td>0.18</td>\n",
              "    </tr>\n",
              "    <tr>\n",
              "      <th>12</th>\n",
              "      <td>1784.5</td>\n",
              "      <td>2129.0</td>\n",
              "      <td>5.0</td>\n",
              "      <td>0.37</td>\n",
              "      <td>0.18</td>\n",
              "    </tr>\n",
              "    <tr>\n",
              "      <th>13</th>\n",
              "      <td>1819.0</td>\n",
              "      <td>2135.9</td>\n",
              "      <td>6.0</td>\n",
              "      <td>0.36</td>\n",
              "      <td>0.21</td>\n",
              "    </tr>\n",
              "    <tr>\n",
              "      <th>14</th>\n",
              "      <td>1736.3</td>\n",
              "      <td>2039.4</td>\n",
              "      <td>6.0</td>\n",
              "      <td>0.43</td>\n",
              "      <td>0.21</td>\n",
              "    </tr>\n",
              "    <tr>\n",
              "      <th>15</th>\n",
              "      <td>1805.2</td>\n",
              "      <td>2101.5</td>\n",
              "      <td>4.0</td>\n",
              "      <td>0.40</td>\n",
              "      <td>0.14</td>\n",
              "    </tr>\n",
              "    <tr>\n",
              "      <th>16</th>\n",
              "      <td>1722.5</td>\n",
              "      <td>1998.1</td>\n",
              "      <td>5.0</td>\n",
              "      <td>0.38</td>\n",
              "      <td>0.18</td>\n",
              "    </tr>\n",
              "    <tr>\n",
              "      <th>17</th>\n",
              "      <td>1860.3</td>\n",
              "      <td>2156.6</td>\n",
              "      <td>3.0</td>\n",
              "      <td>0.37</td>\n",
              "      <td>0.17</td>\n",
              "    </tr>\n",
              "    <tr>\n",
              "      <th>18</th>\n",
              "      <td>1812.1</td>\n",
              "      <td>2087.7</td>\n",
              "      <td>2.0</td>\n",
              "      <td>0.41</td>\n",
              "      <td>0.19</td>\n",
              "    </tr>\n",
              "  </tbody>\n",
              "</table>\n",
              "</div>\n",
              "      <button class=\"colab-df-convert\" onclick=\"convertToInteractive('df-da0db659-1b74-44a3-9819-7a5d29661eb3')\"\n",
              "              title=\"Convert this dataframe to an interactive table.\"\n",
              "              style=\"display:none;\">\n",
              "        \n",
              "  <svg xmlns=\"http://www.w3.org/2000/svg\" height=\"24px\"viewBox=\"0 0 24 24\"\n",
              "       width=\"24px\">\n",
              "    <path d=\"M0 0h24v24H0V0z\" fill=\"none\"/>\n",
              "    <path d=\"M18.56 5.44l.94 2.06.94-2.06 2.06-.94-2.06-.94-.94-2.06-.94 2.06-2.06.94zm-11 1L8.5 8.5l.94-2.06 2.06-.94-2.06-.94L8.5 2.5l-.94 2.06-2.06.94zm10 10l.94 2.06.94-2.06 2.06-.94-2.06-.94-.94-2.06-.94 2.06-2.06.94z\"/><path d=\"M17.41 7.96l-1.37-1.37c-.4-.4-.92-.59-1.43-.59-.52 0-1.04.2-1.43.59L10.3 9.45l-7.72 7.72c-.78.78-.78 2.05 0 2.83L4 21.41c.39.39.9.59 1.41.59.51 0 1.02-.2 1.41-.59l7.78-7.78 2.81-2.81c.8-.78.8-2.07 0-2.86zM5.41 20L4 18.59l7.72-7.72 1.47 1.35L5.41 20z\"/>\n",
              "  </svg>\n",
              "      </button>\n",
              "      \n",
              "  <style>\n",
              "    .colab-df-container {\n",
              "      display:flex;\n",
              "      flex-wrap:wrap;\n",
              "      gap: 12px;\n",
              "    }\n",
              "\n",
              "    .colab-df-convert {\n",
              "      background-color: #E8F0FE;\n",
              "      border: none;\n",
              "      border-radius: 50%;\n",
              "      cursor: pointer;\n",
              "      display: none;\n",
              "      fill: #1967D2;\n",
              "      height: 32px;\n",
              "      padding: 0 0 0 0;\n",
              "      width: 32px;\n",
              "    }\n",
              "\n",
              "    .colab-df-convert:hover {\n",
              "      background-color: #E2EBFA;\n",
              "      box-shadow: 0px 1px 2px rgba(60, 64, 67, 0.3), 0px 1px 3px 1px rgba(60, 64, 67, 0.15);\n",
              "      fill: #174EA6;\n",
              "    }\n",
              "\n",
              "    [theme=dark] .colab-df-convert {\n",
              "      background-color: #3B4455;\n",
              "      fill: #D2E3FC;\n",
              "    }\n",
              "\n",
              "    [theme=dark] .colab-df-convert:hover {\n",
              "      background-color: #434B5C;\n",
              "      box-shadow: 0px 1px 3px 1px rgba(0, 0, 0, 0.15);\n",
              "      filter: drop-shadow(0px 1px 2px rgba(0, 0, 0, 0.3));\n",
              "      fill: #FFFFFF;\n",
              "    }\n",
              "  </style>\n",
              "\n",
              "      <script>\n",
              "        const buttonEl =\n",
              "          document.querySelector('#df-da0db659-1b74-44a3-9819-7a5d29661eb3 button.colab-df-convert');\n",
              "        buttonEl.style.display =\n",
              "          google.colab.kernel.accessAllowed ? 'block' : 'none';\n",
              "\n",
              "        async function convertToInteractive(key) {\n",
              "          const element = document.querySelector('#df-da0db659-1b74-44a3-9819-7a5d29661eb3');\n",
              "          const dataTable =\n",
              "            await google.colab.kernel.invokeFunction('convertToInteractive',\n",
              "                                                     [key], {});\n",
              "          if (!dataTable) return;\n",
              "\n",
              "          const docLinkHtml = 'Like what you see? Visit the ' +\n",
              "            '<a target=\"_blank\" href=https://colab.research.google.com/notebooks/data_table.ipynb>data table notebook</a>'\n",
              "            + ' to learn more about interactive tables.';\n",
              "          element.innerHTML = '';\n",
              "          dataTable['output_type'] = 'display_data';\n",
              "          await google.colab.output.renderOutput(dataTable, element);\n",
              "          const docLink = document.createElement('div');\n",
              "          docLink.innerHTML = docLinkHtml;\n",
              "          element.appendChild(docLink);\n",
              "        }\n",
              "      </script>\n",
              "    </div>\n",
              "  </div>\n",
              "  "
            ]
          },
          "metadata": {},
          "execution_count": 73
        }
      ],
      "source": [
        "raw_df[(raw_df['yield strength']>1700) & (raw_df['c']>0.2)].reset_index(drop=True)"
      ]
    },
    {
      "cell_type": "code",
      "execution_count": 74,
      "metadata": {
        "id": "UUCZUsf_YOCm",
        "outputId": "f93e7be4-abc5-4dbf-bf0f-8fe2193a1111",
        "colab": {
          "base_uri": "https://localhost:8080/"
        }
      },
      "outputs": [
        {
          "output_type": "execute_result",
          "data": {
            "text/plain": [
              "0.09644230769230769"
            ]
          },
          "metadata": {},
          "execution_count": 74
        }
      ],
      "source": [
        "raw_df.c.mean()"
      ]
    },
    {
      "cell_type": "code",
      "execution_count": 75,
      "metadata": {
        "id": "HZJoVbJdYOCn",
        "colab": {
          "base_uri": "https://localhost:8080/"
        },
        "outputId": "a9b61706-6672-4339-c450-f51232060c41"
      },
      "outputs": [
        {
          "output_type": "execute_result",
          "data": {
            "text/plain": [
              "[0      False\n",
              " 1      False\n",
              " 2      False\n",
              " 3      False\n",
              " 4      False\n",
              "        ...  \n",
              " 307    False\n",
              " 308    False\n",
              " 309     True\n",
              " 310     True\n",
              " 311    False\n",
              " Length: 312, dtype: bool]"
            ]
          },
          "metadata": {},
          "execution_count": 75
        }
      ],
      "source": [
        "[(raw_df['yield strength']>1800) & (raw_df['c']>0.25)]"
      ]
    }
  ]
}